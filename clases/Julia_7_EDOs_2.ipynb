{
 "cells": [
  {
   "cell_type": "markdown",
   "metadata": {},
   "source": [
    "# Modificiaciones del método de Euler"
   ]
  },
  {
   "cell_type": "markdown",
   "metadata": {},
   "source": [
    "__Bibliofrafia:__ \n",
    "* Butcher, John C. (2003), Numerical Methods for Ordinary Differential Equations, John Wiley, Second Edition.\n",
    "* https://en.wikipedia.org/wiki/Midpoint_method\n",
    "* https://en.wikipedia.org/wiki/Euler_method"
   ]
  },
  {
   "cell_type": "markdown",
   "metadata": {},
   "source": [
    "__Tarea 12:__ Los ejercicios de este _notebook_ quedan como tarea para el Jueves 29 de Septiembre."
   ]
  },
  {
   "cell_type": "markdown",
   "metadata": {},
   "source": [
    "El método implicito es:\n",
    "$$x_{n+1}=x_n+f(x_{n+1},t_{n+1})h,$$\n",
    "Observen que en cada paso hay que resolver una ecuación algebraica, por ej, para el primer paso $x_1=x_0+f(x_1,t_1)h$\n",
    "tenemos que despejar $x_1$. Una forma es utilizar el método de Newton que ya desarrollaron, es decir, si tomamos $g(x)=x-f(x,t_1)h$, el método nos dice que:\n",
    "$$\\tilde x_{k+1}=x_k-\\frac{g(x_k)}{g'(\\tilde x_k)}.$$\n",
    "Para asegurar que $\\tilde x_k$ converge a $x_1$ (puesto que en general $g(x)$ tiene muchas raices), tenemos que tomar $\\tilde x_0$ lo mas cerca posible de $x_1$, lo más prudente es tomar $\\tilde x_0=x_0$. Por lo tanto, para cualquier paso tenemos que si conocemos $x_n$, entonces $x_{n+1}$ esta dado por el límite \n",
    "\n",
    "$$x_{n+1}=\\lim_{k\\to \\infty}\\tilde x_k,$$\n",
    "donde $\\tilde x_{k+1}=x_k-\\frac{g(x_k)}{g'(\\tilde x_k)}$, con $g(x)=x_n-f(x,t_n)$.\n",
    "\n",
    "Otra forma de encontrar $x_{n+1}$ sin tener necesidad de calcular la derivada explicitamente, es modificar el método de Newton usando una derivada númerica. Otra forma es utilizar el método de punto fijo.\n",
    "\n",
    "En la teoría de sistemas dinámicos discretos, donde estos se definen como:\n",
    "$$x_{n+1}=F(x_n),$$\n",
    "Obsérvese que el método de Newton y el método de Euler tienen esta forma.\n",
    "\n",
    "Cuándo $x_n$ converge a alguna parte en el límite de $n\\to\\infty$, se dice que existe un _punto fijo estable_ y que la condición inicial del nuestro sistema dinámico esta en la _cuenca de atracción_ de dicho _punto fijo estable_ (también conocido como atractor, y sí, existen los repulsores). \n",
    "Los puntos fijos, $x^*$, cumplen:\n",
    "$$x^*=f(x^*),$$\n",
    "por eso se les dice _fijos_, si el sistema comienza en uno de ellos, la suceción es constante.\n",
    "Entonces, para resolver la ecuación algebraica presente en el método de Euler, podemos hacer las siguientes identificaciones:\n",
    "\n",
    "$$x_{n+1}\\to x^*\\text{ ,y}$$\n",
    "$$x_n+f(x,t_{n+1})h\\to F(x).$$\n",
    "Es decir, $x_{n+1}$ (con $x_n$ obviamente conocido) es un punto fijo del sistema dinámico:\n",
    "$$ x_{n+1}^{[k+1]}=x_n+f(x_{n+1}^{[k]},t_{n+1})h,$$\n",
    "nuevamente es prudente utilizar $x_{n+1}^{[0]}=x_n$."
   ]
  },
  {
   "cell_type": "markdown",
   "metadata": {},
   "source": [
    "__Ejercicio 1:__ Implementar método implicito de Euler como quieran."
   ]
  },
  {
   "cell_type": "markdown",
   "metadata": {},
   "source": [
    "Una forma de volver de nuevo el método de Euler implícito a uno explícito sería aproximar el punto desconocido de alguna forma, una manera sencilla es usando _Euler_ de nuevo, sin embargo podemos hacer una modificación más, dado que aproximaremos el siguiente punto, nuestra aproximación será mejor si no tomamos un punto tan lejano como lo es $n+1$, sino el punto medio, $n+1/2$:\n",
    "\n",
    "$$x_{n+1}=x_n+hf(\\tilde x_{n+1/2},t_{n+1/2}).$$\n",
    "Claramente si desconocemos $\\tilde x_{n+1/2}$, esto todavia es el método de Euler implícito a medio paso, es decir:\n",
    "$$\\tilde x_{n+1/2}\\approx x_n+\\frac{h}{2}f\\left(x_n,t_n\\right).$$\n",
    "Sustituyendo nos queda que:\n",
    "$$x_{n+1}=x_n+hf\\left(x_n+\\frac{h}{2}f(x_n,t_n),t_{n+1/2}\\right).$$\n",
    "Este es el método _del punto medio_ o _método de Euler modificado_. El error global del método es proporcional a $\\Delta t h^2$."
   ]
  },
  {
   "cell_type": "markdown",
   "metadata": {},
   "source": [
    "__Ejercicio 2:__ Implementar Euler: Regla del punto medio."
   ]
  },
  {
   "cell_type": "markdown",
   "metadata": {},
   "source": [
    "# Runge-Kutta orden 2"
   ]
  },
  {
   "cell_type": "markdown",
   "metadata": {},
   "source": [
    "Quiza notaron que si derivamos el método de Euler partiendo de la siguiente forma:\n",
    "$$dx\\approx x_{n+1}-x_n\\approx \\int_{t_n}^{t_{n+1}}f(x(t),t)dt,$$\n",
    "es evidente que se uso la regla del rectángulo para aproximar la integral de la derecha, utilizando como altura del rectángulo el extremo izquierdo del mismo.\n",
    "Entonces, si queremos integrar de mánera más sofisiticada sabemos que el siguiente método naturalmente a considerar es el del trapecio, entonces:\n",
    "$$dx\\approx x_{n+1}-x_n\\approx \\int_{t_n}^{t_{n+1}}f(x(t),t)dt\\approx \\frac{h}{2}\\left( f(x_n,t_n)+f(x_{n+1},t_{n+1}) \\right).$$\n",
    "Este método es implícito, podemos hacerlo explícito si aproximamos $x_{n+1}$ de alguna mánera, que tal usando _Euler_?:\n",
    "$$x_{n+1}\\approx x_n+h f(x_n,t_n),$$\n",
    "de esta forma nos queda:\n",
    "$$x_{n+1}\\approx x_n+\\frac{h}{2} \\left( f(x_n,t_n)+f(x_n+h f(x_n,t_n),t_{n+1})\\right).$$\n",
    "Esto es el método de Runge-Kutta de orden dos, el error global es $\\sim h^2 \\Delta t$, por eso el orden 2. Escrito en la forma tradicional tenemos:\n",
    "\\begin{eqnarray}\n",
    "k_1&=&f(x_n,t_n),\\nonumber\\\\\n",
    "k_2&=&f\\left(x_n+h k_1,t_{n+1}\\right),\\nonumber\\\\\n",
    "x_{n+1}&=&x_n+\\frac{h}{2}\\left( k_1+k_2 \\right)\n",
    "\\end{eqnarray}"
   ]
  },
  {
   "cell_type": "markdown",
   "metadata": {},
   "source": [
    "# Runge-Kutta orden 3"
   ]
  },
  {
   "cell_type": "markdown",
   "metadata": {},
   "source": [
    "El método de integracisigue es la regla de Simpson:\n",
    "$$dx\\approx x_{n+1}-x_n\\approx \\int_{t_n}^{t_{n+1}}f(x(t),t)dt\\approx \\frac{h}{6}\\left( f(x_n,t_n)+4f(x_{n+1/2},t_{n+1/2})+f(x_{n+1},t_{n+1}) \\right).$$\n",
    "De nuevo para quitarle el cáracter implícito al método es necesario aproximar $x_{n+1/2}$ y $x_{n+1}$, por la cercania de $x_{n+1/2}$ a $x_{n}$, de momento nos bastará aproximarlo con _Euler_:\n",
    "$$x_{n+1/2}\\approx x_n+\\frac{h}{2} f(x_n,t_n).$$\n",
    "Luego para aproximar $x_{n+1}$ podemos utilizar la información disponible ahora al tiempo $n$ y $n+1/2$, lo que Runge y Kutta hicieron fue considerar una combinación (utilizando un parámetro $\\theta$ como peso) de los métodos de Euler utilizando la información disponible, es decir:\n",
    "$$x_{n+1}\\approx x_n+h(\\theta f(x_n,t_n)+(1-\\theta)f(x_{n+1/2},t_{n+1/2})).$$\n",
    "Lo que hicieron despues fue comparar la solución del tiempo $n=0$ al tiempo $n=h$ con la solución que arroja el método de Taylor (simplemente utilizar el hecho de que conocemos la primera derivada de $x(t)$ (cortesia de la ecuación diferencial misma) y tratar de minimizar el error al cambiar los valores de $\\theta$, lo que obtuvieron es que el error en cada paso es del orden de $h^3$ para $\\theta=3$. Por lo que el método nos queda como:"
   ]
  },
  {
   "cell_type": "markdown",
   "metadata": {},
   "source": [
    "__Ejercicio 3:__ Implementar método de Runge-Kutta de orden 4."
   ]
  }
 ],
 "metadata": {
  "kernelspec": {
   "display_name": "Julia 0.6.0",
   "language": "julia",
   "name": "julia-0.6"
  },
  "language_info": {
   "file_extension": ".jl",
   "mimetype": "application/julia",
   "name": "julia",
   "version": "0.6.0"
  },
  "latex_envs": {
   "bibliofile": "biblio.bib",
   "cite_by": "apalike",
   "current_citInitial": 1,
   "eqLabelWithNumbers": true,
   "eqNumInitial": 0
  }
 },
 "nbformat": 4,
 "nbformat_minor": 2
}
