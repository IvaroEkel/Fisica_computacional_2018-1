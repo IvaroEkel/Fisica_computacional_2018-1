{
 "cells": [
  {
   "cell_type": "markdown",
   "metadata": {},
   "source": [
    "# Modificiaciones del método de Euler"
   ]
  },
  {
   "cell_type": "markdown",
   "metadata": {},
   "source": [
    "El método implicito es:\n",
    "$$x_{n+1}=x_n+f(x_{n+1},t_{n+1}),$$\n",
    "Observen que en cada paso hay que resolver una ecuación algebraica, por ej, para el primer paso $x_1=x_0+f(x_1,t_1)$\n",
    "tenemos que despejar $x_1$. Una forma es utilizar el método de Newton que ya desarrollaron, es decir, si tomamos $g(x)=x-f(x,t_1)$, el método nos dice que:\n",
    "$$\\tilde x_{k+1}=x_k-\\frac{g(x_k)}{g'(\\tilde x_k)}.$$\n",
    "Para asegurar que $\\tilde x_k$ converge a $x_1$ (puesto que en general $g(x)$ tiene muchas raices), tenemos que tomar $\\tilde x_0$ lo mas cerca posible de $x_1$, lo más prudente es tomar $\\tilde x_0=x_0$. Por lo tanto, para cualquier paso tenemos que si conocemos $x_n$, entonces $x_{n+1}$ esta dado por el límite \n",
    "\n",
    "$$x_{n+1}=\\lim_{k\\to \\infty}\\tilde x_k,$$\n",
    "donde $\\tilde x_{k+1}=x_k-\\frac{g(x_k)}{g'(\\tilde x_k)}$, con $g(x)=x_n-f(x,t_n)$.\n",
    "\n",
    "Otra forma de encontrar $x_{n+1}$ sin tener necesidad de calcular la derivada explicitamente, es modificar el método de Newton usando una derivada númerica. Otra forma es utilizar el método de punto fijo.\n",
    "\n",
    "En la teoría de sistemas dinámicos discretos, donde estos se definen como:\n",
    "$$x_{n+1}=F(x_n),$$\n",
    "Obsérvese que el método de Newton y el método de Euler tienen esta forma.\n",
    "\n",
    "Cuándo $x_n$ converge a alguna parte en el límite de $n\\to\\infty$, se dice que existe un _punto fijo estable_ y que la condición inicial del nuestro sistema dinámico esta en la _cuenca de atracción_ de dicho _punto fijo estable_ (también conocido como atractor, y sí, existen los repulsores). \n",
    "Los puntos fijos, $x^*$, cumplen:\n",
    "$$x^*=f(x^*),$$\n",
    "por eso se les dice _fijos_, si el sistema comienza en uno de ellos, la suceción es constante.\n",
    "Entonces, para resolver la ecuación algebraica presente en el método de Euler, podemos hacer las siguientes identificaciones:\n",
    "\n",
    "$$x_{n+1}\\to x^*\\text{ y}$$\n",
    "$$x_n+f(x,t_{n+1})\\to F(x).$$\n",
    "Es decir, $x_{n+1}$ (con $x_n$ obviamente conocido) es un punto fijo del sistema dinámico:\n",
    "$$ x_{n+1}^{[k+1]}=x_n+f(x_{n+1}^{[k]},t_{n+1}),$$\n",
    "nuevamente es prudente utilizar $x_{n+1}^{[0]}=x_n$."
   ]
  },
  {
   "cell_type": "markdown",
   "metadata": {},
   "source": [
    "__Ejercicio 1:__ Implementar método implicito de Euler como quieran."
   ]
  },
  {
   "cell_type": "markdown",
   "metadata": {},
   "source": [
    "Regla del punto medio..."
   ]
  },
  {
   "cell_type": "markdown",
   "metadata": {},
   "source": [
    "__Ejercicio 2:__ Implementar Euler: Regla del punto medio."
   ]
  },
  {
   "cell_type": "markdown",
   "metadata": {},
   "source": [
    "# Runge-Kutta"
   ]
  },
  {
   "cell_type": "markdown",
   "metadata": {},
   "source": [
    "__Ejercicio 3:__ Implementar método de Runge-Kutta de orden 4."
   ]
  }
 ],
 "metadata": {
  "kernelspec": {
   "display_name": "Julia 0.6.0",
   "language": "julia",
   "name": "julia-0.6"
  },
  "language_info": {
   "file_extension": ".jl",
   "mimetype": "application/julia",
   "name": "julia",
   "version": "0.6.0"
  }
 },
 "nbformat": 4,
 "nbformat_minor": 2
}
