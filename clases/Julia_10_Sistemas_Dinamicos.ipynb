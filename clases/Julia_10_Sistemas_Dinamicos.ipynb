{
 "cells": [
  {
   "cell_type": "markdown",
   "metadata": {},
   "source": [
    "# Sistemas dimámicos dos dimensionales"
   ]
  },
  {
   "cell_type": "markdown",
   "metadata": {},
   "source": [
    "__Los ejercicios de este _notebook_ quedarán para el Viernes 13 de Octubre como Tarea 14. __"
   ]
  },
  {
   "cell_type": "markdown",
   "metadata": {},
   "source": [
    "Los sistemas dinámicos continuos y lineales se escriben como:\n",
    "$$\\frac{d \\vec x}{d t}=A \\vec x,$$\n",
    "y en particular para los de dos dimensiones $A=\\left(\\begin{array}{cc} a & b \\\\c & d \\end{array} \\right)$. En clase vimos que los eigenvalores de $A$ dictan el comportamiento del sistema, cuyo punto fijo es $\\vec 0$. También se vio que la ecuación caracteristica de la matriz se puede escribir como:\n",
    "$$\\lambda^2-\\lambda \\tau +\\Delta=0,$$\n",
    "donde $\\tau=\\text{tr} A$ y $\\Delta= \\det A.$ El siguiente diagrama del Strogratz muestra los tipos de puntos fijos y su ubicación en el espacio $(\\Delta, \\tau)$ para los sistemas lineales de dos dimensiones:"
   ]
  },
  {
   "cell_type": "markdown",
   "metadata": {},
   "source": [
    "![](images/fixed_points_space.png)"
   ]
  },
  {
   "cell_type": "markdown",
   "metadata": {},
   "source": [
    "__Ejercicio 1:__ Resolver con Runge-Kutta orden 4 el sistema:\n",
    "\\begin{align*}\n",
    "\\dot x &= y-y^3\\\\\n",
    "\\dot y &= -x -y^2\n",
    "\\end{align*}\n",
    "* Grafiquen muchas trayectorias en el espacio de fase, utilizando condiciones iniciales aleatorias.\n",
    "* Calculen el Jacobiano de $\\vec F=\\left(y-y^3,-x-y^2 \\right)^{\\text{T}}$ y evaluenlo en $\\vec 0$, el cual es un punto fijo. Calculen $\\Delta$ y $\\tau$ e indiquen que tipo de punto fijo es el $\\vec 0$."
   ]
  },
  {
   "cell_type": "markdown",
   "metadata": {},
   "source": [
    "__Ejercicio 2:__ Resolver usando Runge-Kutta orden 4 para resolver el oscilador de van der Pol:\n",
    "$${d^2x \\over dt^2}-\\mu(1-x^2){dx \\over dt}+x= 0$$\n",
    "* Graficar muchas trayectorias, construidas a partir de condiciones iniciales aleatorias, en el espacio de fase. Observa alguna estructura en particular?\n",
    "* Usen $\\mu=0.5$.\n",
    "* Grafiquen varias trayectorias en los espacios $(x,t)$ y $(y=\\dot x,t)$."
   ]
  }
 ],
 "metadata": {
  "kernelspec": {
   "display_name": "Julia 0.7.0-DEV",
   "language": "julia",
   "name": "julia-0.7"
  },
  "language_info": {
   "file_extension": ".jl",
   "mimetype": "application/julia",
   "name": "julia",
   "version": "0.7.0"
  }
 },
 "nbformat": 4,
 "nbformat_minor": 2
}
