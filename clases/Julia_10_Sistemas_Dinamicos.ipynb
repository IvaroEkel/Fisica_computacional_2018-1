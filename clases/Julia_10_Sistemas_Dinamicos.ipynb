{
 "cells": [
  {
   "cell_type": "markdown",
   "metadata": {},
   "source": [
    "# Sistemas dimámicos dos dimensionales"
   ]
  },
  {
   "cell_type": "code",
   "execution_count": 2,
   "metadata": {},
   "outputs": [
    {
     "data": {
      "text/plain": [
       "2×2 Array{Int64,2}:\n",
       " 1  2\n",
       " 3  4"
      ]
     },
     "execution_count": 2,
     "metadata": {},
     "output_type": "execute_result"
    }
   ],
   "source": [
    "A=[1 2; 3 4]"
   ]
  },
  {
   "cell_type": "code",
   "execution_count": 8,
   "metadata": {},
   "outputs": [
    {
     "data": {
      "text/plain": [
       "2×2 Array{Float64,2}:\n",
       " -0.824565  -0.415974\n",
       "  0.565767  -0.909377"
      ]
     },
     "execution_count": 8,
     "metadata": {},
     "output_type": "execute_result"
    }
   ],
   "source": [
    "vecs=eigvecs(A)"
   ]
  },
  {
   "cell_type": "code",
   "execution_count": 11,
   "metadata": {},
   "outputs": [
    {
     "data": {
      "text/plain": [
       "2-element Array{Float64,1}:\n",
       " -0.372281\n",
       "  5.37228 "
      ]
     },
     "execution_count": 11,
     "metadata": {},
     "output_type": "execute_result"
    }
   ],
   "source": [
    "eigvals(A)"
   ]
  },
  {
   "cell_type": "code",
   "execution_count": 12,
   "metadata": {},
   "outputs": [
    {
     "name": "stdout",
     "output_type": "stream",
     "text": [
      "search: \u001b[1me\u001b[22m\u001b[1mi\u001b[22m\u001b[1mg\u001b[22m\u001b[1mv\u001b[22m\u001b[1me\u001b[22m\u001b[1mc\u001b[22m\u001b[1ms\u001b[22m\n",
      "\n"
     ]
    },
    {
     "data": {
      "text/markdown": [
       "```\n",
       "eigvecs(A, [eigvals,][permute=true,][scale=true]) -> Matrix\n",
       "```\n",
       "\n",
       "Returns a matrix `M` whose columns are the eigenvectors of `A`. (The `k`th eigenvector can be obtained from the slice `M[:, k]`.) The `permute` and `scale` keywords are the same as for [`eigfact`](:func:`eigfact`).\n",
       "\n",
       "For [`SymTridiagonal`](:class:`SymTridiagonal`) matrices, if the optional vector of eigenvalues `eigvals` is specified, returns the specific corresponding eigenvectors.\n",
       "\n",
       "```\n",
       "eigvecs(A, B) -> Matrix\n",
       "```\n",
       "\n",
       "Returns a matrix `M` whose columns are the generalized eigenvectors of `A` and `B`. (The `k`th eigenvector can be obtained from the slice `M[:, k]`.)\n",
       "\n",
       "```jldoctest\n",
       "julia> A = [1 0; 0 -1]\n",
       "2×2 Array{Int64,2}:\n",
       " 1   0\n",
       " 0  -1\n",
       "\n",
       "julia> B = [0 1; 1 0]\n",
       "2×2 Array{Int64,2}:\n",
       " 0  1\n",
       " 1  0\n",
       "\n",
       "julia> eigvecs(A, B)\n",
       "2×2 Array{Complex{Float64},2}:\n",
       "  0.0-1.0im   0.0+1.0im\n",
       " -1.0-0.0im  -1.0+0.0im\n",
       "```\n"
      ],
      "text/plain": [
       "```\n",
       "eigvecs(A, [eigvals,][permute=true,][scale=true]) -> Matrix\n",
       "```\n",
       "\n",
       "Returns a matrix `M` whose columns are the eigenvectors of `A`. (The `k`th eigenvector can be obtained from the slice `M[:, k]`.) The `permute` and `scale` keywords are the same as for [`eigfact`](:func:`eigfact`).\n",
       "\n",
       "For [`SymTridiagonal`](:class:`SymTridiagonal`) matrices, if the optional vector of eigenvalues `eigvals` is specified, returns the specific corresponding eigenvectors.\n",
       "\n",
       "```\n",
       "eigvecs(A, B) -> Matrix\n",
       "```\n",
       "\n",
       "Returns a matrix `M` whose columns are the generalized eigenvectors of `A` and `B`. (The `k`th eigenvector can be obtained from the slice `M[:, k]`.)\n",
       "\n",
       "```jldoctest\n",
       "julia> A = [1 0; 0 -1]\n",
       "2×2 Array{Int64,2}:\n",
       " 1   0\n",
       " 0  -1\n",
       "\n",
       "julia> B = [0 1; 1 0]\n",
       "2×2 Array{Int64,2}:\n",
       " 0  1\n",
       " 1  0\n",
       "\n",
       "julia> eigvecs(A, B)\n",
       "2×2 Array{Complex{Float64},2}:\n",
       "  0.0-1.0im   0.0+1.0im\n",
       " -1.0-0.0im  -1.0+0.0im\n",
       "```\n"
      ]
     },
     "execution_count": 12,
     "metadata": {},
     "output_type": "execute_result"
    }
   ],
   "source": [
    "?eigvecs"
   ]
  },
  {
   "cell_type": "markdown",
   "metadata": {},
   "source": [
    "$$\\frac{d \\vec x}{d t}=A \\vec x,$$\n",
    "con $A=\\left(\\begin{array}{cc} a & b \\\\c & d \\end{array} \\right)$"
   ]
  },
  {
   "cell_type": "markdown",
   "metadata": {},
   "source": [
    "![](images/fixed_points_space.png)"
   ]
  },
  {
   "cell_type": "markdown",
   "metadata": {},
   "source": [
    "## Algebra lineal en Julia"
   ]
  },
  {
   "cell_type": "code",
   "execution_count": null,
   "metadata": {
    "collapsed": true
   },
   "outputs": [],
   "source": []
  }
 ],
 "metadata": {
  "kernelspec": {
   "display_name": "Julia 0.5.2",
   "language": "julia",
   "name": "julia-0.5"
  },
  "language_info": {
   "file_extension": ".jl",
   "mimetype": "application/julia",
   "name": "julia",
   "version": "0.5.2"
  }
 },
 "nbformat": 4,
 "nbformat_minor": 2
}
