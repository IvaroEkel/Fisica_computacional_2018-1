{
 "cells": [
  {
   "cell_type": "markdown",
   "metadata": {},
   "source": [
    "# Cálculo númerico"
   ]
  },
  {
   "cell_type": "markdown",
   "metadata": {},
   "source": [
    "Los ejercicios en este notebook, de no resolverse y mandarse a su repositorio en clase, quedan como la Tarea_6, para _fecha_. __Las tareas de ahora en adelate llevaran el siguiente formato:__\n",
    "\n",
    "Como ya se menciono, deben ir en notebooks de `Jupyter`, estos deben contener:\n",
    "* La _rutina_ pedida en la tarea, así como las posibles _subrutinas_ necesarias para el funcionamiento de la rutina principal.\n",
    "\n",
    "* _test_ que prueben que su _rutina_ funciona apropiadamente, en clase tipicamente se mencionara como pueden ser estos tests.\n",
    "\n",
    "* La _rutina_, así como las _subrutinas_ deben estar con la documentación apropiada.\n",
    "\n",
    "* En aras de que entiendan lo que estan haciendo y lo demuestren a los ayudantes, deberán comentar las partes más determinantes de sus programas, argumentando cual es la labor de cada una. Por ej:\n",
    "    * `#El siguiente for es para....\n",
    "    for i in range(1,10)\n",
    "    ...\n",
    "    end`"
   ]
  },
  {
   "cell_type": "markdown",
   "metadata": {},
   "source": [
    "## Integración númerica"
   ]
  },
  {
   "cell_type": "markdown",
   "metadata": {},
   "source": [
    "Para mayor información pueden consultar el siguiente enlace: https://en.wikipedia.org/wiki/Numerical_integration"
   ]
  },
  {
   "cell_type": "markdown",
   "metadata": {},
   "source": [
    "### Método del Rectangulo (básicamente Riemann con diferencias finitas)"
   ]
  },
  {
   "cell_type": "markdown",
   "metadata": {},
   "source": [
    "Dado un intervalo $[a,b]$, la integral puede ser aproximada por:\n",
    "$$\\int_a^b f(x)\\,dx \\approx (b-a) \\, f\\left(\\frac{a+b}{2}\\right)$$\n",
    "\n",
    "![Rectángulo](https://upload.wikimedia.org/wikipedia/commons/2/26/Integration_rectangle.svg)\n",
    "Esto básicamente es la definición de suma de Riemann para la integral, la cual se define tomando el limite de $b-a \\to 0$. Es claro que el método funciona mejor cuando el intervalo de integración es pequeño."
   ]
  },
  {
   "cell_type": "markdown",
   "metadata": {},
   "source": [
    "__Ejercicio 1__: Implementar el método de integración del rectángulo. Deberán construir una _rutina_ que reciba una función y el tamaño de la diferencia finita, y devuelva el valor aproximado de la integral. Para hacer esto deberán dividir el intervalo de integración en segmentos pequeños y aplicar la formula de arriba."
   ]
  },
  {
   "cell_type": "markdown",
   "metadata": {},
   "source": [
    "### Método del Trapecio"
   ]
  },
  {
   "cell_type": "markdown",
   "metadata": {},
   "source": [
    "En lugar de utilizar rectangulos para aproximar la integral en un intervalo dado $[a,b]$, podemos utilizar trapecios:\n",
    "\n",
    "$$\\int_a^b f(x)\\,dx \\approx (b-a) \\, \\left(\\frac{f(a) + f(b)}{2}\\right).$$\n",
    "\n",
    "Nótese que el area se calculó simplemente útilizando la fórmula del area para un trapecio.\n",
    "\n",
    "![Trapecio](https://upload.wikimedia.org/wikipedia/commons/0/03/Integration_trapezoid.svg)"
   ]
  },
  {
   "cell_type": "markdown",
   "metadata": {},
   "source": [
    "__Ejercicio 2:__ Implementar método del trapecio de la misma forma que el ejercicio anterior."
   ]
  },
  {
   "cell_type": "markdown",
   "metadata": {},
   "source": [
    "### Método de Simpson"
   ]
  },
  {
   "cell_type": "markdown",
   "metadata": {},
   "source": [
    "Como ven, el método del trapecio consiste en crear un trapecio para cada dos puntos dados de la función, noten que parte del trapecio es la arista que conecta los dos puntos de la función, obviamente con una recta. Esto último se puede ver como una _interpolación lineal_ de  dichos puntos.\n",
    "Lo interesante ahora es hacer una interpolación dados tres puntos, en esta ocasión no puede ser en general una recta. Una opción sencilla es utilizar el método de interpolación de _Lagrange_, que para tres puntos interpola con un polinomio de grado $2$. La integral de un polinomio es trivial, por lo que si utilizamos polinomios de orden $2$ para cada celda en que dividamos la integral, obtenemos lo siguiente para la celda [a,b]:\n",
    "\n",
    "$$ \\int_{a}^{b} f(x) \\, dx \\approx \\tfrac{b-a}{6}\\left[f(a) + 4f\\left(\\tfrac{a+b}{2}\\right)+f(b)\\right], $$\n",
    "\n",
    "donde\n",
    "$$ P(x) = f(a) \\tfrac{(x-m)(x-b)}{(a-m)(a-b)} + f(m) \\tfrac{(x-a)(x-b)}{(m-a)(m-b)} + f(b) \\tfrac{(x-a)(x-m)}{(b-a)(b-m)}, $$\n",
    "y $m=(a+b)/2$.\n",
    "![Simpson](https://upload.wikimedia.org/wikipedia/commons/1/13/Integration_simpson.svg)"
   ]
  },
  {
   "cell_type": "markdown",
   "metadata": {},
   "source": [
    "__Ejercicio 3:__ Implementar método de Simpson de la misma forma que el ejercicio anterior."
   ]
  },
  {
   "cell_type": "markdown",
   "metadata": {},
   "source": [
    "# Interpolación polinomial en la forma de Lagrange\n",
    "\n",
    "Dado un conjunto de $k+1$ puntos\n",
    "\n",
    "$$(x_0,y_0),\\ldots,(x_j,y_j),\\ldots,(x_k,y_k)$$\n",
    "\n",
    "donde las $x_j$ no son iguales, la interpolación polinomial en la forma de Lagrange es una combinación lineal\n",
    "\n",
    "$$L(x):= \\sum_{j=0}^{k}y_jl_j(x)$$\n",
    "\n",
    "de las bases polinomiales de Lagrange\n",
    "\n",
    "$$l_j(x) = \\prod_{0 \\le m \\le k \\atop m \\ne j} \\frac{x-x_m}{x_j-x_m}.$$\n",
    "\n",
    "Para cada $i \\ne j$, $l_j(x)$ incluye el término $(x-x_i)$ en el numerador, entonces el producto entero será cero en $x=x_i$:\n",
    "\n",
    "$$l_{j\\ne i}(x_i) = \\prod_{m \\ne j} \\frac{x_i-x_m}{x_j-x_m} = \\frac{x_i-x_0}{x_j-x_0} \\ldots \\frac{x_i-x_i}{x_j-x_i} \\ldots \\frac{x_i-x_k}{x_j-x_k} = 0.$$\n",
    "\n",
    "Por otro lado\n",
    "\n",
    "$$l_i(x_i) = \\prod_{m \\ne i} \\frac{x_i-x_m}{x_i-x_m} = 1,$$\n",
    "\n",
    "en otras palabras, todas las bases polinomiales son cero en $x=x_i$, excepto $l_i(x_i)$, para la cual se tiene $l_i(x_i)=1$. Lo que sigue es que $y_il_i(x_i) = y_i$, entonces para cada punto $x_i$, $L(x_i) = y_i+0+0+\\ldots+0 = y_i$, demostrando que $L$ interpola a la función de manera exacta."
   ]
  },
  {
   "cell_type": "markdown",
   "metadata": {},
   "source": [
    "__Ejercicio 4:__ Implementar método de interpolación de Lagrange en `Julia`. La función deberá recibir la lista de puntos $(x_k,y_k)$, note que es particularmente útil si los _inputs_ son las listas de las $x$'s y de las $y$'s separadamente, es decir, de la misma forma en como la función `plot` recibe los argumentos; esto servira para verificar nuestros resultados.\n",
    "* Interpole las funciones $\\cos(x)$, $\\cos^2(x)$ tomando un arreglo de $10$ puntos distribuidos uniformemente dentro del dominio $[0,2 3.14]$, donde el primer punto sea $0$ y el último $3.14$.\n",
    "* Interpole los los siguientes puntos: [(0,10),(2,-10),(3,-4),(4,0),(5,5),(6,20),(7,-1)]"
   ]
  },
  {
   "cell_type": "markdown",
   "metadata": {},
   "source": [
    " # Generalización del método de Simpson:  Simpson 3/8 y Newton-Cotes"
   ]
  },
  {
   "cell_type": "markdown",
   "metadata": {},
   "source": [
    "Como ven, los métodos de integración vistos aproximan el valor de la integral con sumas de la siguiente forma:\n",
    "$$ \\int_a^b f(x) \\,dx \\approx \\sum_{i=0}^n w_i\\, f(x_i), $$\n",
    "donde los $w_i$ son _pesos_, claramente los _pesos_ dominantes dictan que puntos de la función aportan más al resultado.\n",
    "\n",
    "El método de Simpson $3/4$ es la generalización de Simpson usando polinomios de grado $3$. Los métodos de Simpsons, además del método del trapecio (usamos polinomios de orden $1$), pertenecen a una familia de métodos llamados Newton-Cotes, que generalizan el método para $n$ puntos:\n",
    "\n",
    "$$ \\int_a^b f(x) \\,dx \\approx \\int_a^b L(x)\\,dx = \\int_a^b \\bigl( \\sum_{i=0}^n f(x_i)\\, l_i(x) \\bigr) \\, dx\n",
    "= \\sum_{i=0}^n f(x_i) \\underbrace{\\int_a^b l_i(x)\\, dx}_{w_i}. $$"
   ]
  },
  {
   "cell_type": "markdown",
   "metadata": {},
   "source": [
    "Es posible que la implementación de la generalización pueda ser parte de un proyecto que consista en hacer un _toolbox_ de métodos de integración más avanzados, como la _cuadratura  de gauss, montecarlo_ y _métodos adaptativos_."
   ]
  }
 ],
 "metadata": {
  "kernelspec": {
   "display_name": "Julia 0.6.0",
   "language": "julia",
   "name": "julia-0.6"
  },
  "language_info": {
   "file_extension": ".jl",
   "mimetype": "application/julia",
   "name": "julia",
   "version": "0.6.0"
  },
  "latex_envs": {
   "bibliofile": "biblio.bib",
   "cite_by": "apalike",
   "current_citInitial": 1,
   "eqLabelWithNumbers": true,
   "eqNumInitial": 0
  }
 },
 "nbformat": 4,
 "nbformat_minor": 2
}
