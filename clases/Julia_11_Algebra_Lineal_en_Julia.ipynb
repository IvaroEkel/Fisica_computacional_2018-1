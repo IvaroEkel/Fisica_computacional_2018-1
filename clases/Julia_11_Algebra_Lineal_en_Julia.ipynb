{
 "cells": [
  {
   "cell_type": "markdown",
   "metadata": {},
   "source": [
    "En clase vimos que la solución formal de la ecuación:\n",
    "$${d \\vec x \\over dt}=A \\vec x$$\n",
    "es $$\\vec x(t)=e^{A t}\\vec x_0,$$\n",
    "donde $\\vec x_0$ es la condición inicial."
   ]
  },
  {
   "cell_type": "markdown",
   "metadata": {},
   "source": [
    "__Ejercicio 1:__ ¿Como podemos evaluar funciones en matrices?\n",
    "__Hint:__ ¿que operaciones sabemos que estan bien definidas sobre matrices?"
   ]
  },
  {
   "cell_type": "markdown",
   "metadata": {},
   "source": [
    "__Tarea 16 (Martes 24):__ Demostrar que si $A=wBw^{-1}$, es decir $A$ y $B$ similares, que $f(A)=wf(B)w^{-1}$, donde $f$ es una función analítica. Entregar en físico en clase."
   ]
  },
  {
   "cell_type": "markdown",
   "metadata": {},
   "source": [
    "## Eigenvalores y eigenvectores"
   ]
  },
  {
   "cell_type": "markdown",
   "metadata": {},
   "source": [
    "Recordemos la definición de eigenvalores y eigenvectores, de hecho, más precisamente, de eigenvalores y eigenvectores derechos:\n",
    "$$A \\vec v_i=\\lambda_i \\vec v_i$$"
   ]
  },
  {
   "cell_type": "markdown",
   "metadata": {},
   "source": [
    "Primero definamos una matriz:"
   ]
  },
  {
   "cell_type": "code",
   "execution_count": 1,
   "metadata": {},
   "outputs": [],
   "source": [
    "A=[1 2; 3 4];"
   ]
  },
  {
   "cell_type": "code",
   "execution_count": 3,
   "metadata": {},
   "outputs": [
    {
     "name": "stdout",
     "output_type": "stream",
     "text": [
      "A = 2×2 Array{Int64,2}:\n",
      " 1  2\n",
      " 3  4\n"
     ]
    }
   ],
   "source": [
    "@show A;"
   ]
  },
  {
   "cell_type": "markdown",
   "metadata": {},
   "source": [
    "Para calcular los eigenvalores hacemos lo que sigue:"
   ]
  },
  {
   "cell_type": "code",
   "execution_count": 5,
   "metadata": {},
   "outputs": [
    {
     "data": {
      "text/plain": [
       "2-element Array{Float64,1}:\n",
       " -0.3722813232690143\n",
       "  5.372281323269014 "
      ]
     },
     "execution_count": 5,
     "metadata": {},
     "output_type": "execute_result"
    }
   ],
   "source": [
    "vals=eigvals(A)"
   ]
  },
  {
   "cell_type": "markdown",
   "metadata": {},
   "source": [
    "Los eigenvectores son las columnas de la matriz que resulta de los siguientes comandos:"
   ]
  },
  {
   "cell_type": "code",
   "execution_count": 6,
   "metadata": {},
   "outputs": [
    {
     "data": {
      "text/plain": [
       "2×2 Array{Float64,2}:\n",
       " -0.824565  -0.415974\n",
       "  0.565767  -0.909377"
      ]
     },
     "execution_count": 6,
     "metadata": {},
     "output_type": "execute_result"
    }
   ],
   "source": [
    "w=eigvecs(A)"
   ]
  },
  {
   "cell_type": "code",
   "execution_count": 7,
   "metadata": {},
   "outputs": [
    {
     "data": {
      "text/plain": [
       "2×2 Array{Float64,2}:\n",
       " -0.372281  0.0    \n",
       "  0.0       5.37228"
      ]
     },
     "execution_count": 7,
     "metadata": {},
     "output_type": "execute_result"
    }
   ],
   "source": [
    "d=diagm(vals)"
   ]
  },
  {
   "cell_type": "code",
   "execution_count": 8,
   "metadata": {},
   "outputs": [
    {
     "data": {
      "text/plain": [
       "2×2 Array{Float64,2}:\n",
       " 1.0  2.0\n",
       " 3.0  4.0"
      ]
     },
     "execution_count": 8,
     "metadata": {},
     "output_type": "execute_result"
    }
   ],
   "source": [
    "w*d*inv(w)"
   ]
  },
  {
   "cell_type": "code",
   "execution_count": 9,
   "metadata": {},
   "outputs": [
    {
     "data": {
      "text/plain": [
       "2×2 Array{Float64,2}:\n",
       " -4.44089e-16  -4.44089e-16\n",
       " -4.44089e-16  -4.44089e-16"
      ]
     },
     "execution_count": 9,
     "metadata": {},
     "output_type": "execute_result"
    }
   ],
   "source": [
    "w*d*inv(w)-A"
   ]
  },
  {
   "cell_type": "markdown",
   "metadata": {},
   "source": [
    "Matrices simétricas"
   ]
  },
  {
   "cell_type": "markdown",
   "metadata": {},
   "source": [
    "__Ejercicio 2:__ ¿Como se define una matriz simétrica?"
   ]
  },
  {
   "cell_type": "markdown",
   "metadata": {},
   "source": [
    "__Ejercicio 3:__ ¿Como puede construir una matriz simétrica a partir de cualquier matriz cuadrada?"
   ]
  },
  {
   "cell_type": "code",
   "execution_count": 10,
   "metadata": {},
   "outputs": [
    {
     "data": {
      "text/plain": [
       "10×10 Array{Float64,2}:\n",
       " 0.31353   0.174661   0.491709   0.972478   …  0.377565  0.609766   0.387238 \n",
       " 0.230618  0.645475   0.52138    0.60036       0.425176  0.960095   0.618323 \n",
       " 0.156345  0.836743   0.310742   0.463299      0.724783  0.0775372  0.0282439\n",
       " 0.950932  0.178983   0.950455   0.857066      0.569061  0.0691612  0.976893 \n",
       " 0.275412  0.0913913  0.212926   0.405274      0.138305  0.027892   0.163914 \n",
       " 0.911792  0.633543   0.533659   0.902264   …  0.268218  0.220146   0.635336 \n",
       " 0.549351  0.452717   0.653032   0.337159      0.715523  0.203465   0.528175 \n",
       " 0.8206    0.862491   0.374297   0.258483      0.927118  0.768903   0.950152 \n",
       " 0.288913  0.61964    0.0660777  0.0126007     0.98819   0.550824   0.421907 \n",
       " 0.436239  0.164196   0.540118   0.424374      0.143322  0.906506   0.948403 "
      ]
     },
     "execution_count": 10,
     "metadata": {},
     "output_type": "execute_result"
    }
   ],
   "source": [
    "A=rand(10,10)"
   ]
  },
  {
   "cell_type": "code",
   "execution_count": 11,
   "metadata": {},
   "outputs": [
    {
     "data": {
      "text/plain": [
       "10×10 Array{Float64,2}:\n",
       " 0.627059  0.405279  0.648054  1.92341    …  1.19817   0.89868    0.823477\n",
       " 0.405279  1.29095   1.35812   0.779343      1.28767   1.57974    0.782519\n",
       " 0.648054  1.35812   0.621484  1.41375       1.09908   0.143615   0.568362\n",
       " 1.92341   0.779343  1.41375   1.71413       0.827544  0.0817619  1.40127 \n",
       " 1.26939   0.313576  0.484564  0.463832      0.442911  0.644893   0.822763\n",
       " 1.33431   1.37182   0.730256  1.6945     …  0.315605  0.621056   1.47234 \n",
       " 0.7071    1.3479    1.13241   1.22465       0.858666  0.861702   0.592446\n",
       " 1.19817   1.28767   1.09908   0.827544      1.85424   1.75709    1.09347 \n",
       " 0.89868   1.57974   0.143615  0.0817619     1.75709   1.10165    1.32841 \n",
       " 0.823477  0.782519  0.568362  1.40127       1.09347   1.32841    1.89681 "
      ]
     },
     "execution_count": 11,
     "metadata": {},
     "output_type": "execute_result"
    }
   ],
   "source": [
    "A=A+A'"
   ]
  },
  {
   "cell_type": "code",
   "execution_count": 12,
   "metadata": {},
   "outputs": [
    {
     "data": {
      "text/plain": [
       "10-element Array{Float64,1}:\n",
       " -1.757078362247765  \n",
       " -1.263430843540426  \n",
       " -0.7219126593976609 \n",
       " -0.602953900643197  \n",
       "  0.33030151468750496\n",
       "  1.133751589296827  \n",
       "  1.4004570044539153 \n",
       "  1.958479587569594  \n",
       "  2.683577447231474  \n",
       " 10.11841583640842   "
      ]
     },
     "execution_count": 12,
     "metadata": {},
     "output_type": "execute_result"
    }
   ],
   "source": [
    "vals=eigvals(A)"
   ]
  },
  {
   "cell_type": "code",
   "execution_count": 13,
   "metadata": {},
   "outputs": [
    {
     "data": {
      "text/plain": [
       "10×10 Array{Float64,2}:\n",
       " -1.75708   0.0       0.0       …  0.0      0.0      0.0       0.0   \n",
       "  0.0      -1.26343   0.0          0.0      0.0      0.0       0.0   \n",
       "  0.0       0.0      -0.721913     0.0      0.0      0.0       0.0   \n",
       "  0.0       0.0       0.0          0.0      0.0      0.0       0.0   \n",
       "  0.0       0.0       0.0          0.0      0.0      0.0       0.0   \n",
       "  0.0       0.0       0.0       …  0.0      0.0      0.0       0.0   \n",
       "  0.0       0.0       0.0          1.40046  0.0      0.0       0.0   \n",
       "  0.0       0.0       0.0          0.0      1.95848  0.0       0.0   \n",
       "  0.0       0.0       0.0          0.0      0.0      2.68358   0.0   \n",
       "  0.0       0.0       0.0          0.0      0.0      0.0      10.1184"
      ]
     },
     "execution_count": 13,
     "metadata": {},
     "output_type": "execute_result"
    }
   ],
   "source": [
    "d=diagm(vals)"
   ]
  },
  {
   "cell_type": "code",
   "execution_count": 14,
   "metadata": {},
   "outputs": [
    {
     "data": {
      "text/plain": [
       "10×10 Array{Float64,2}:\n",
       " -0.599719   -0.046696   -0.328544   …  -0.0397603    0.179254   -0.309309\n",
       " -0.0830369  -0.558154   -0.287035       0.0594906   -0.252709   -0.329448\n",
       " -0.0186259   0.496437   -0.433558      -0.175188     0.0555651  -0.264226\n",
       "  0.404703   -0.0768542   0.133758      -0.00693652   0.49065    -0.368903\n",
       "  0.471414   -0.244488   -0.326414      -0.508408    -0.034645   -0.229148\n",
       "  0.140805    0.125394    0.21923    …   0.314696     0.419945   -0.344841\n",
       " -0.339813    0.157881    0.532218      -0.605603    -0.0623301  -0.331307\n",
       "  0.110005   -0.199357    0.386878       0.140606    -0.480096   -0.33365 \n",
       "  0.224713    0.535256   -0.124446       0.211754    -0.495883   -0.283336\n",
       " -0.221772   -0.0852135  -0.0279185      0.418645     0.0484709  -0.342193"
      ]
     },
     "execution_count": 14,
     "metadata": {},
     "output_type": "execute_result"
    }
   ],
   "source": [
    "w=eigvecs(A)"
   ]
  },
  {
   "cell_type": "code",
   "execution_count": 16,
   "metadata": {},
   "outputs": [
    {
     "data": {
      "text/plain": [
       "10×10 Array{Float64,2}:\n",
       " -1.22125e-15  -2.22045e-16  -8.88178e-16  …  -5.55112e-16  -1.11022e-16\n",
       " -2.22045e-16  -1.11022e-15   4.44089e-16     -2.22045e-15   0.0        \n",
       " -8.88178e-16   4.44089e-16   1.55431e-15     -1.44329e-15   1.11022e-16\n",
       " -2.22045e-16   2.22045e-16  -4.44089e-16     -1.11022e-15  -6.66134e-16\n",
       "  1.33227e-15   3.88578e-16  -8.88178e-16     -1.33227e-15  -1.11022e-16\n",
       " -1.55431e-15   0.0           6.66134e-16  …  -9.99201e-16  -1.33227e-15\n",
       " -3.33067e-16   1.11022e-15   4.44089e-16     -1.77636e-15  -3.33067e-16\n",
       "  6.66134e-16  -1.55431e-15  -4.44089e-16     -6.66134e-16   2.22045e-16\n",
       " -4.44089e-16  -2.22045e-15  -1.33227e-15      2.22045e-16  -6.66134e-16\n",
       "  2.22045e-16   0.0           1.11022e-16     -6.66134e-16  -3.10862e-15"
      ]
     },
     "execution_count": 16,
     "metadata": {},
     "output_type": "execute_result"
    }
   ],
   "source": [
    "w*d*w'-A"
   ]
  },
  {
   "cell_type": "markdown",
   "metadata": {},
   "source": [
    "## Funciones de matrices"
   ]
  },
  {
   "cell_type": "markdown",
   "metadata": {},
   "source": [
    "Si queremos calcular la exponencial de $A$ hacemos:"
   ]
  },
  {
   "cell_type": "code",
   "execution_count": 17,
   "metadata": {},
   "outputs": [
    {
     "data": {
      "text/plain": [
       "10×10 Array{Float64,2}:\n",
       " 2373.73  2525.21  2026.24  2830.76  …  2540.54  2558.07  2171.85  2624.36\n",
       " 2525.21  2693.77  2158.79  3011.52     2706.6   2726.84  2316.24  2794.51\n",
       " 2026.24  2158.79  1732.66  2417.61     2171.12  2185.74  1855.14  2240.85\n",
       " 2830.76  3011.52  2417.61  3378.59     3029.85  3049.05  2587.97  3130.14\n",
       " 1757.85  1871.02  1501.07  2095.45     1884.56  1895.19  1609.7   1943.62\n",
       " 2645.38  2816.16  2259.06  3156.72  …  2831.42  2849.72  2420.26  2926.75\n",
       " 2540.54  2706.6   2171.12  3029.85     2724.71  2740.36  2327.21  2809.42\n",
       " 2558.07  2726.84  2185.74  3049.05     2740.36  2764.89  2347.32  2830.66\n",
       " 2171.85  2316.24  1855.14  2587.97     2327.21  2347.32  1994.96  2404.49\n",
       " 2624.36  2794.51  2240.85  3130.14     2809.42  2830.66  2404.49  2906.25"
      ]
     },
     "execution_count": 17,
     "metadata": {},
     "output_type": "execute_result"
    }
   ],
   "source": [
    "w*diagm(exp.(vals))*w'"
   ]
  },
  {
   "cell_type": "markdown",
   "metadata": {},
   "source": [
    "Afortunadamente `Julia` tiene implementadas funciones sobre matrices:"
   ]
  },
  {
   "cell_type": "code",
   "execution_count": 19,
   "metadata": {},
   "outputs": [
    {
     "data": {
      "text/plain": [
       "10×10 Array{Float64,2}:\n",
       " 2373.73  2525.21  2026.24  2830.76  …  2540.54  2558.07  2171.85  2624.36\n",
       " 2525.21  2693.77  2158.79  3011.52     2706.6   2726.84  2316.24  2794.51\n",
       " 2026.24  2158.79  1732.66  2417.61     2171.12  2185.74  1855.14  2240.85\n",
       " 2830.76  3011.52  2417.61  3378.59     3029.85  3049.05  2587.97  3130.14\n",
       " 1757.85  1871.02  1501.07  2095.45     1884.56  1895.19  1609.7   1943.62\n",
       " 2645.38  2816.16  2259.06  3156.72  …  2831.42  2849.72  2420.26  2926.75\n",
       " 2540.54  2706.6   2171.12  3029.85     2724.71  2740.36  2327.21  2809.42\n",
       " 2558.07  2726.84  2185.74  3049.05     2740.36  2764.89  2347.32  2830.66\n",
       " 2171.85  2316.24  1855.14  2587.97     2327.21  2347.32  1994.96  2404.49\n",
       " 2624.36  2794.51  2240.85  3130.14     2809.42  2830.66  2404.49  2906.25"
      ]
     },
     "execution_count": 19,
     "metadata": {},
     "output_type": "execute_result"
    }
   ],
   "source": [
    "exp(A)"
   ]
  },
  {
   "cell_type": "code",
   "execution_count": 20,
   "metadata": {},
   "outputs": [
    {
     "data": {
      "text/plain": [
       "10×10 Array{Float64,2}:\n",
       " 8.6402e-12   9.09495e-12  7.27596e-12  …  7.7307e-12   9.09495e-12\n",
       " 9.09495e-12  1.00044e-11  7.7307e-12      8.18545e-12  1.00044e-11\n",
       " 7.04858e-12  7.7307e-12   6.13909e-12     6.36646e-12  7.7307e-12 \n",
       " 1.00044e-11  1.09139e-11  8.6402e-12      8.6402e-12   1.13687e-11\n",
       " 6.13909e-12  6.59384e-12  5.22959e-12     5.68434e-12  6.82121e-12\n",
       " 9.09495e-12  1.00044e-11  7.7307e-12   …  8.18545e-12  1.00044e-11\n",
       " 9.09495e-12  9.54969e-12  7.27596e-12     8.18545e-12  1.00044e-11\n",
       " 9.09495e-12  1.00044e-11  7.7307e-12      8.18545e-12  1.00044e-11\n",
       " 8.18545e-12  8.18545e-12  6.59384e-12     7.27596e-12  8.6402e-12 \n",
       " 9.09495e-12  9.54969e-12  7.27596e-12     8.18545e-12  1.00044e-11"
      ]
     },
     "execution_count": 20,
     "metadata": {},
     "output_type": "execute_result"
    }
   ],
   "source": [
    "w*diagm(exp.(vals))*w'-exp(A)"
   ]
  },
  {
   "cell_type": "markdown",
   "metadata": {},
   "source": [
    "Nótese que llevan una \"m\", de matriz al final, no se deben de confundir con las funciones normales, las cuales automaticamente aplican la función elemento por elemento, por ej:"
   ]
  },
  {
   "cell_type": "code",
   "execution_count": 21,
   "metadata": {},
   "outputs": [
    {
     "data": {
      "text/plain": [
       "10×10 Array{Float64,2}:\n",
       " 1.8721   1.49972  1.91182  6.84426  …  2.0281   3.31403  2.45636  2.27841\n",
       " 1.49972  3.63624  3.88889  2.18004     3.84932  3.62432  4.85367  2.18697\n",
       " 1.91182  3.88889  1.86169  4.11136     3.10312  3.0014   1.15444  1.76537\n",
       " 6.84426  2.18004  4.11136  5.55185     3.40297  2.28769  1.0852   4.06034\n",
       " 3.55867  1.36831  1.62347  1.59016     6.52808  1.55723  1.90578  2.27678\n",
       " 3.79737  3.94253  2.07561  5.44393  …  2.30321  1.37109  1.86089  4.35943\n",
       " 2.0281   3.84932  3.10312  3.40297     4.35619  2.36001  2.36719  1.80841\n",
       " 3.31403  3.62432  3.0014   2.28769     2.36001  6.38682  5.79556  2.98462\n",
       " 2.45636  4.85367  1.15444  1.0852      2.36719  5.79556  3.00912  3.77505\n",
       " 2.27841  2.18697  1.76537  4.06034     1.80841  2.98462  3.77505  6.66457"
      ]
     },
     "execution_count": 21,
     "metadata": {},
     "output_type": "execute_result"
    }
   ],
   "source": [
    "exp.(A)"
   ]
  },
  {
   "cell_type": "markdown",
   "metadata": {},
   "source": [
    "__Ejercicio 4:__ Construya el propagador $e^{A t}$ para cada tiempo sobre una malla y uselo para propagar un estado inicial $\\vec x_0$ cualquiera. Utilice:\n",
    "$$A=\\left(\\begin{array}{cc} 1 & 1\\\\ -1 & 1 \\end{array} \\right).$$\n",
    "* Grafique la trayectoria en el espacio de fase.\n",
    "\n",
    "__Nota 1:__ De momento no utilicen `expm`.\n",
    "__Nota 2:__ El operador `*` funciona para multiplicar matrices."
   ]
  }
 ],
 "metadata": {
  "kernelspec": {
   "display_name": "Julia 0.7.0-DEV",
   "language": "julia",
   "name": "julia-0.7"
  },
  "language_info": {
   "file_extension": ".jl",
   "mimetype": "application/julia",
   "name": "julia",
   "version": "0.7.0"
  }
 },
 "nbformat": 4,
 "nbformat_minor": 2
}
