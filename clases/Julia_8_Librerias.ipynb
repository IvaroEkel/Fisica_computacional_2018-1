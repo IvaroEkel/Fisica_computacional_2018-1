{
 "cells": [
  {
   "cell_type": "markdown",
   "metadata": {},
   "source": [
    "# Librerias en Julia"
   ]
  },
  {
   "cell_type": "markdown",
   "metadata": {},
   "source": [
    "El archivo de la libreria debe tener la siguiente estructura:"
   ]
  },
  {
   "cell_type": "markdown",
   "metadata": {},
   "source": [
    "Documentación: http://docs.julialang.org/en/release-0.6/manual/modules/\n",
    "\n",
    "* Esquema general de una libreria (modulo), digamos MyModule.jl\n",
    "\n",
    "__module MyModule__ _(nombre del modulo)_\n",
    "\n",
    "__using package1, package2__ _(Aqui llamamos los paquetes que nuestro modulo necesita para funcionar)_\n",
    "\n",
    "__export x, y__ _(las funciones que exportamos al workspace cuando llamamos al modulo)_\n",
    "\n",
    "__x() = \"x\"__\n",
    "\n",
    "__y() = \"y\"__\n",
    "\n",
    "__p() = \"p\"__ _(Nótese que la funcion p() no esta exportada, podemos definir funciones de uso interno, esta no aparcera en el workspace con el comando \"using MyModule\", sin embargo será accesible con \"import MyModule\")_\n",
    "\n",
    "__end__"
   ]
  },
  {
   "cell_type": "markdown",
   "metadata": {},
   "source": [
    "Como ejemplo sencillo es el siguiente, donde solo hemos puesto una rutina dentro:"
   ]
  },
  {
   "cell_type": "code",
   "execution_count": 12,
   "metadata": {},
   "outputs": [
    {
     "name": "stderr",
     "output_type": "stream",
     "text": [
      "WARNING: replacing module herramientas\n"
     ]
    },
    {
     "data": {
      "text/plain": [
       "herramientas"
      ]
     },
     "execution_count": 12,
     "metadata": {},
     "output_type": "execute_result"
    }
   ],
   "source": [
    "__precompile__() # Este comando es para que julia precompile el paquete\n",
    "\n",
    "module herramientas\n",
    "\n",
    "export metodo_newton\n",
    "\n",
    "\"\"\"documentación del método de Newton\"\"\"\n",
    "function metodo_newton(f,df,x0)\n",
    "    x=x0\n",
    "    for i in 1:20\n",
    "       x=x-f(x)/df(x) \n",
    "    end\n",
    "    return x\n",
    "end\n",
    "\n",
    "end"
   ]
  },
  {
   "cell_type": "markdown",
   "metadata": {},
   "source": [
    "Al ejecutar la celda anterior la libreria herramientas esta cargada en el kernel, sin embargo no esta en el _workspace_, es decir, para llamar a las funciones usamos `herramientas.funcion`"
   ]
  },
  {
   "cell_type": "code",
   "execution_count": 2,
   "metadata": {},
   "outputs": [
    {
     "data": {
      "text/plain": [
       "1.414213562373095"
      ]
     },
     "execution_count": 2,
     "metadata": {},
     "output_type": "execute_result"
    }
   ],
   "source": [
    "herramientas.metodo_newton(x->x^2-2,x->2*x,1)"
   ]
  },
  {
   "cell_type": "code",
   "execution_count": 13,
   "metadata": {},
   "outputs": [
    {
     "data": {
      "text/markdown": [
       "documentación del método de Newton\n"
      ],
      "text/plain": [
       "documentación del método de Newton\n"
      ]
     },
     "execution_count": 13,
     "metadata": {},
     "output_type": "execute_result"
    }
   ],
   "source": [
    "?herramientas.metodo_newton"
   ]
  },
  {
   "cell_type": "markdown",
   "metadata": {},
   "source": [
    "Ahora bien, típicamente lo que uno hace para mantener organizadas y darles mantenimiento a las rutinas que sabemos que ya funcionan bien, es tener una sola copia de ellas en una libreria. Así podemos usarlas para distintos proyectos en diferentes _notebooks_."
   ]
  },
  {
   "cell_type": "markdown",
   "metadata": {},
   "source": [
    "Para este ejemplo puse el archivo herramientas.jl dentro de la carpeta clases, entonces lo podemos importar como sigue:"
   ]
  },
  {
   "cell_type": "code",
   "execution_count": 14,
   "metadata": {},
   "outputs": [
    {
     "name": "stderr",
     "output_type": "stream",
     "text": [
      "WARNING: could not import herramientas.jl into Main\n"
     ]
    }
   ],
   "source": [
    "import herramientas.jl"
   ]
  },
  {
   "cell_type": "code",
   "execution_count": 15,
   "metadata": {},
   "outputs": [
    {
     "data": {
      "text/plain": [
       "1.414213562373095"
      ]
     },
     "execution_count": 15,
     "metadata": {},
     "output_type": "execute_result"
    }
   ],
   "source": [
    "herramientas.metodo_newton(x->x^2-2,x->2*x,1)"
   ]
  },
  {
   "cell_type": "markdown",
   "metadata": {},
   "source": [
    "Lo anterior surte el mismo efecto que ejecutar la celda donde pusimos inicialmente el contenido de la libreria, noten el mensaje de alerta, que nos dice que las funciones no estan cargadas en el _workspace_."
   ]
  },
  {
   "cell_type": "markdown",
   "metadata": {},
   "source": [
    "__Ejercicio 1:__ Crear la libreria herramientas dentro de su carpeta de tareas, en su repositorio. Dentro deberán poner los métodos de Newton que construyeron, los métodos de integración, Euler independiente de dimensión y Runge-Kutta independiente de dimensión. Recuerden que las rutinas deben funcionar solo con sus argumentos, no debe haber variables globales, todo lo que necesite la función para trabajar debe ser un argumento o una variable definida internamente.\n",
    "* Las rutinas tienen que llevar su documentación.\n",
    "* Crearán el notebook de la tarea 14 y en el llamarán a su libreria con el comando `import`.\n",
    "* Deberán demostrar que sus rutinas funcionan bien con los mismos tests que ya hicieron para ellas, pero esta vez en un solo notebook."
   ]
  }
 ],
 "metadata": {
  "kernelspec": {
   "display_name": "Julia 0.6.0",
   "language": "julia",
   "name": "julia-0.6"
  },
  "language_info": {
   "file_extension": ".jl",
   "mimetype": "application/julia",
   "name": "julia",
   "version": "0.6.0"
  },
  "latex_envs": {
   "LaTeX_envs_menu_present": true,
   "autocomplete": true,
   "bibliofile": "biblio.bib",
   "cite_by": "apalike",
   "current_citInitial": 1,
   "eqLabelWithNumbers": true,
   "eqNumInitial": 1,
   "hotkeys": {
    "equation": "Ctrl-E",
    "itemize": "Ctrl-I"
   },
   "labels_anchors": false,
   "latex_user_defs": false,
   "report_style_numbering": false,
   "user_envs_cfg": false
  }
 },
 "nbformat": 4,
 "nbformat_minor": 2
}
