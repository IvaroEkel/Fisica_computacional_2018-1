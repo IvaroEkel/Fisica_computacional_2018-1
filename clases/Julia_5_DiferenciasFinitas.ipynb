{
 "cells": [
  {
   "cell_type": "markdown",
   "metadata": {},
   "source": [
    "# Diferencias finitas"
   ]
  },
  {
   "cell_type": "markdown",
   "metadata": {},
   "source": [
    "La idea detrás de las diferencias finitas es la de aproximar\n",
    "la derivada de una función $f$ en un punto $x_0$. En primer\n",
    "lugar, recordamos la definición de la derivada:\n",
    "$$\n",
    "f'(x) = \\lim_{h\\to0}\\frac{f(x+h)-f(x)}{h}.\n",
    "$$\n",
    "\n",
    "La derivada numérica _hacia adelante_ se define simplemente sustituyendo el límite por valores pequeños de $h$, digamos $0.1$ o $0.01$ típicamente."
   ]
  },
  {
   "cell_type": "markdown",
   "metadata": {},
   "source": [
    "__Ejercicio 0: Hacer notebook de la Tarea_8 y poner ahi todos los ejercicios $1$ y el $7$ para el Martes 12 de Septiembre.__"
   ]
  },
  {
   "cell_type": "markdown",
   "metadata": {},
   "source": [
    "__Ejercicio 1__. Escribe una función `derivadaNumerica` que\n",
    "reciba: una función $f\\colon \\mathbb{R}\\mapsto\\mathbb{R}$,\n",
    "un punto $x_0\\in\\mathbb{R}$ y un número $h\\in\\mathbb{R}$. Esta función deberá calcular una aproximación a la\n",
    "derivada utilizando la definición indicada arriba ignorando\n",
    "la parte del límite. Es decir, algo como: `derivada_numerica(f,x,h)`."
   ]
  },
  {
   "cell_type": "markdown",
   "metadata": {},
   "source": [
    "## Analisis del error:"
   ]
  },
  {
   "cell_type": "markdown",
   "metadata": {},
   "source": [
    "Un analisis bastante útil para saber que tan buena es la derivada numérica, se puede llevar a cabo calculando la serie de potencias en $h$ de la diferencia finita de $f$:\n",
    "\n",
    "$$f(x+h)=f{\\left (x \\right )} + h \\left. \\frac{d}{d \\xi} f{\\left (\\xi \\right )} \\right|_{\\substack{ \\xi=x }} + \\frac{h^{2}}{2} \\left. \\frac{d^{2}}{d \\xi^{2}}  f{\\left (\\xi \\right )} \\right|_{\\substack{ \\xi=x }} + \\frac{h^{3}}{6} \\left. \\frac{d^{3}}{d \\xi^{3}}  f{\\left (\\xi \\right )} \\right|_{\\substack{ \\xi=x }} + \\mathcal{O}\\left(h^{4}\\right).$$\n",
    "\n",
    "Algo que se debe notar es que podemos reorganizar la ecuación anterior como sigue:\n",
    "$$\\frac{\\Delta f(x,h)}{h}-f'(x)=\\mathcal{O}(h),$$ donde $\\Delta f(x,h)=f(x+h)-f(x)$.\n",
    "\n",
    "La conclusión que se saca de aqui es que la derivada numérica _hacia adelante_ tiene un error del orden de $h$."
   ]
  },
  {
   "cell_type": "markdown",
   "metadata": {},
   "source": [
    "__Ejercicio 2__. Utiliza tu función `derivadaNumerica` para\n",
    "calcular la derivada de la función $\\cos$ en un punto\n",
    "$x_0\\in[0,1)$. Compara tu resultado con el que indica el\n",
    "cálculo exacto. Utiliza valores de $h$ cada vez más pequeños, grafica el comportamiento de la derivada y muestra como converge al valor exacto conforme tomamos $h$'s cada vez más pequeño. Para ello pueden graficar el resultado de la derivada numérica contra $1/h$.\n",
    "Observa el resultado de la aproximación y comenta. ¿El error es del orden de $h$?, para ver esto grafica el error relativo a $f'(x_0)$:\n",
    "$$\\epsilon=\\left|\\frac{\\Delta f(x_0,h)/h-f'(x_0)}{f'(x_0)}\\right|,$$\n",
    "respecto a $h$."
   ]
  },
  {
   "cell_type": "markdown",
   "metadata": {},
   "source": [
    "__Ejercicio 3__. Teniendo en mente la serie de Taylor para $f(x+h)$ ¿existe\n",
    "alguna forma de mejorar el cálculo de la derivada numérica? Comenta.\n",
    "\n",
    "__Tip:__ ¿Que pasa con los términos pares de la serie cuando la calculamos para $f(x-h)$?, ¿Como podemos despejar la derivada exacta de $f$ combinando ambas series? \n",
    "\n",
    "__Nota:__ Entregar en $\\LaTeX$ en el notebook de la tarea."
   ]
  },
  {
   "cell_type": "markdown",
   "metadata": {},
   "source": [
    "Respecto al ejercicio anterior, en clase se demostró que para mejorar la convergencia del error es conveniente usar la derivada simétrica, en clase demostramos que:\n",
    "$$\\frac{f(x+h)-f(x-h)}{2h}-f'(x)=\\mathcal{O}(h^2),$$\n",
    "claramente el error converge mas rápido que con la derivada _hacia adelante_. La razón del __ejercicio 2__ y su equivalente para la _derivada simetrizada_, es ver precisamente el comportamiento del error relativo respecto a $h$."
   ]
  },
  {
   "cell_type": "markdown",
   "metadata": {},
   "source": [
    "__Pregunta:__ ¿Hay una forma de construir una derivada numérica aún mas exacta sin tener que hacer $h$ arbitrariamente pequeño?, ¿que opinas?"
   ]
  },
  {
   "cell_type": "markdown",
   "metadata": {},
   "source": [
    "__Ejercicio 4__. Implementa la _derivada\n",
    "simétrica_ en `Julia` como `derivada_Simetrica` y repite la\n",
    "comparativa que realizaste en el __ejercicio 2__.\n"
   ]
  },
  {
   "cell_type": "markdown",
   "metadata": {},
   "source": [
    "## Relación entre la diferencia finita $\\Delta f(x,h)$ y la derivada exacta"
   ]
  },
  {
   "cell_type": "markdown",
   "metadata": {},
   "source": [
    "Analizando la serie de la diferencia finita hacia adelante podemos factorizar la función útilizando la propiedad de linealidad del operador derivada, antes pasando del lado izquierdo de la serie a $f(x)$:\n",
    "\n",
    "\\begin{eqnarray}\n",
    "f(x+h)-f(x)&=& \\left[h \\left. \\frac{d}{d \\xi}  \\right|_{\\substack{ \\xi=x }} + \\frac{h^{2}}{2} \\left. \\frac{d^{2}}{d \\xi^{2}}   \\right|_{\\substack{ \\xi_{1}=x }} + \\frac{h^{3}}{6} \\left. \\frac{d^{3}}{d \\xi^{3}}   \\right|_{\\substack{ \\xi=x }} + \\mathcal{O}\\left(h^{4}\\right)\\right]f{\\left (x \\right )}\\\\\n",
    "&=&\\left[ \\sum_{n=1}^{\\infty} \\frac{1}{n!}h^n\\left.\\frac{d^n}{d\\xi^n}\\right|_{\\substack{ \\xi=x }} \\right]f(x)\n",
    "\\end{eqnarray}\n",
    "Luego podemos definir el operador $\\Delta_h$, el cual se define como:\n",
    "$$\\Delta_h:f \\mapsto f(x+h)-f(x)=\\Delta f(x,h).$$\n",
    "__Ejercicio 5:__ Demuestre que $\\Delta_h$ es un operador lineal y que podemos \"factorizar\" la función a la derecha del operador. Hecho esto podemos quitar de ambos lados la función $f$ para obtener lo siguiente:\n",
    "$$\\Delta_h=\\sum_{n=1}^{\\infty} \\frac{1}{n!}h^n\\left.\\frac{d^n}{d\\xi^n}\\right|_{\\substack{ \\xi=x }}$$"
   ]
  },
  {
   "cell_type": "markdown",
   "metadata": {},
   "source": [
    "__Ejercicio 6:__ Para saber como se relaciona el _operador derivada exacta_ con el _operador diferencia finita hacia adelante_ es necesario invertir la serie $\\Delta_h=\\sum_{n=1}^{\\infty} \\frac{1}{n!}h^n\\left.\\frac{d^n}{d\\xi^n}\\right|_{\\substack{ \\xi=x }}$. Una forma directa de hacerlo es identificar la función para la cual es esa serie. Entonces, pensando en el operador derivada como un número, la serie se identifica como función evaluada en $\\left. h\\frac{d}{d_\\xi}\\right|_{\\substack{ \\xi=x }}$, ¿cual es esa función?. Si llamamos $\\phi$ a dicha función, deberiamos de tener una relación de la siguiente forma:\n",
    "$$\\Delta_h=\\phi\\left(h\\left.\\frac{d}{d\\xi}\\right|_{\\substack{ \\xi=x }}\\right)$$.\n",
    "    \n",
    "* __Nota:__ En la clase se demostró que $\\phi(x)=e^x-1$, escriba el razonamiento en $\\LaTeX$ de como se llegó a esto."
   ]
  },
  {
   "cell_type": "markdown",
   "metadata": {},
   "source": [
    "Demostrado lo anterior es fácil ver que:\n",
    "\\begin{eqnarray}\n",
    "\\left.\\frac{d}{d\\xi}\\right|_{\\substack{ \\xi=x }}&=&\\frac{1}{h}\\log\\left(1+\\Delta_h\\right)\\\\\n",
    "&=&\\frac{1}{h}\\left( \\Delta_h-\\frac{1}{2}\\Delta^2_h +\\dots\\right).\n",
    "\\end{eqnarray}\n",
    "claramente si tomamos solo el primer término, regresamos a la definición de derivada númerica _hacia adelante_, lo interesante ahora es tomar más terminos de la serie que acabamos de calcular. Tomando dos terminos la derivada se calcula como sigue:\n",
    "$$f'(x)=\\frac{\\Delta_h f(x)-\\frac{1}{2}\\Delta^2_h f(x)}{h}+\\mathcal{O}(h^2).$$\n",
    "Esta forma de calcular la derivada tiene un error del mismo orden que el de la derivada simétrica, lo interesante ahora es tomar mas terminos de la serie y observar como la derivada converge más rápido."
   ]
  },
  {
   "cell_type": "markdown",
   "metadata": {},
   "source": [
    "## Algoritmo para calcular automáticamente las diferencias finitas de $f(x)$ a ordenes más altos:"
   ]
  },
  {
   "cell_type": "code",
   "execution_count": 3,
   "metadata": {
    "collapsed": true
   },
   "outputs": [],
   "source": [
    "using SymPy"
   ]
  },
  {
   "cell_type": "code",
   "execution_count": 4,
   "metadata": {
    "collapsed": true
   },
   "outputs": [],
   "source": [
    "function coeff_Taylor_Log(i)\n",
    "x=Sym(\"x\");\n",
    "h=Sym(\"h\");\n",
    "N(subs(diff(log(x+1.0),x,i)/factorial(Float64(i)),x=>0))\n",
    "end;\n",
    "\n",
    "function coeff_Taylor_Log_rational(i)\n",
    "    x=Sym(\"x\");\n",
    "    h=Sym(\"h\");\n",
    "    subs(diff(log(x+1),x,i)/factorial(i),x=>0)\n",
    "end;\n",
    "\n",
    "function finite_difference_forward(f)\n",
    "    return (x,h)->f(x+h,h)-f(x,h)\n",
    "end;"
   ]
  },
  {
   "cell_type": "code",
   "execution_count": 17,
   "metadata": {
    "collapsed": false
   },
   "outputs": [],
   "source": [
    "g=SymFunction(\"g\");"
   ]
  },
  {
   "cell_type": "code",
   "execution_count": 18,
   "metadata": {
    "collapsed": false
   },
   "outputs": [
    {
     "data": {
      "text/plain": [
       "rr (generic function with 1 method)"
      ]
     },
     "execution_count": 18,
     "metadata": {},
     "output_type": "execute_result"
    }
   ],
   "source": [
    "rr(x,h)=g(x)"
   ]
  },
  {
   "cell_type": "code",
   "execution_count": 19,
   "metadata": {
    "collapsed": false
   },
   "outputs": [
    {
     "data": {
      "text/latex": [
       "$$g{\\left (x \\right )}$$"
      ],
      "text/plain": [
       "g(x)"
      ]
     },
     "execution_count": 19,
     "metadata": {},
     "output_type": "execute_result"
    }
   ],
   "source": [
    "rr(Sym(\"x\"),Sym(\"h\"))"
   ]
  },
  {
   "cell_type": "markdown",
   "metadata": {},
   "source": [
    "La razón de que el argumento de la función `finite_difference_forward` sea una función de dos argumentos, es para que nosotros impongamos el ordan de las variables, si no, Julia las ordena como quiera. Otro motivo es por que en las rutinas que siguen queremos aplicar/concatenar varias veces el _operador derivada hacia adelante_, así el _output_ tiene la misma forma que el _input_, algo que nos permitirá retroalimentar la función para así concatenar:"
   ]
  },
  {
   "cell_type": "code",
   "execution_count": 20,
   "metadata": {
    "collapsed": false
   },
   "outputs": [
    {
     "data": {
      "text/latex": [
       "$$- g{\\left (x \\right )} + g{\\left (h + x \\right )}$$"
      ],
      "text/plain": [
       "-g(x) + g(h + x)"
      ]
     },
     "execution_count": 20,
     "metadata": {},
     "output_type": "execute_result"
    }
   ],
   "source": [
    "gg=finite_difference_forward(rr);\n",
    "gg(Sym(\"x\"),Sym(\"h\"))"
   ]
  },
  {
   "cell_type": "markdown",
   "metadata": {},
   "source": [
    "Aquí observen que cambié `rr` por `gg` y el resultado fue lo que da la concatenación del operador:"
   ]
  },
  {
   "cell_type": "code",
   "execution_count": 21,
   "metadata": {
    "collapsed": false
   },
   "outputs": [
    {
     "data": {
      "text/latex": [
       "$$g{\\left (x \\right )} - 2 g{\\left (h + x \\right )} + g{\\left (2 h + x \\right )}$$"
      ],
      "text/plain": [
       "g(x) - 2*g(h + x) + g(2*h + x)"
      ]
     },
     "execution_count": 21,
     "metadata": {},
     "output_type": "execute_result"
    }
   ],
   "source": [
    "gg=finite_difference_forward(gg);\n",
    "gg(Sym(\"x\"),Sym(\"h\"))"
   ]
  },
  {
   "cell_type": "markdown",
   "metadata": {},
   "source": [
    "Ahora concatenado dos veces:"
   ]
  },
  {
   "cell_type": "code",
   "execution_count": 22,
   "metadata": {
    "collapsed": false
   },
   "outputs": [
    {
     "data": {
      "text/latex": [
       "$$- g{\\left (x \\right )} + 3 g{\\left (h + x \\right )} - 3 g{\\left (2 h + x \\right )} + g{\\left (3 h + x \\right )}$$"
      ],
      "text/plain": [
       "-g(x) + 3*g(h + x) - 3*g(2*h + x) + g(3*h + x)"
      ]
     },
     "execution_count": 22,
     "metadata": {},
     "output_type": "execute_result"
    }
   ],
   "source": [
    "gg=finite_difference_forward(gg);\n",
    "gg(Sym(\"x\"),Sym(\"h\"))"
   ]
  },
  {
   "cell_type": "code",
   "execution_count": 23,
   "metadata": {
    "collapsed": true
   },
   "outputs": [],
   "source": [
    "function Derivative_order(f,x,h,order)\n",
    "    g(x,h)=f(x)\n",
    "    der=0\n",
    "    for i in range(1,order)\n",
    "        g=finite_difference_forward(g)\n",
    "        der=der+coeff_Taylor_Log(i)*g(x,h)\n",
    "    end\n",
    "    der/h\n",
    "end;\n",
    "function Derivative_order_rational_coefficients(f,x,h,order)\n",
    "    g(x,h)=f(x)\n",
    "    der=0\n",
    "    for i in range(1,order)\n",
    "        g=finite_difference_forward(g)\n",
    "        der=der+coeff_Taylor_Log_rational(i)*g(x,h)\n",
    "    end\n",
    "    der/h\n",
    "end;"
   ]
  },
  {
   "cell_type": "markdown",
   "metadata": {},
   "source": [
    "__test:__"
   ]
  },
  {
   "cell_type": "code",
   "execution_count": 24,
   "metadata": {
    "collapsed": false
   },
   "outputs": [
    {
     "data": {
      "text/plain": [
       "0.544021110889439"
      ]
     },
     "execution_count": 24,
     "metadata": {},
     "output_type": "execute_result"
    }
   ],
   "source": [
    "Derivative_order(cos,10.0,0.01,6)"
   ]
  },
  {
   "cell_type": "code",
   "execution_count": 25,
   "metadata": {
    "collapsed": false
   },
   "outputs": [
    {
     "data": {
      "text/plain": [
       "0.5440211108893698"
      ]
     },
     "execution_count": 25,
     "metadata": {},
     "output_type": "execute_result"
    }
   ],
   "source": [
    "-sin(10.0)"
   ]
  },
  {
   "cell_type": "code",
   "execution_count": 26,
   "metadata": {
    "collapsed": true
   },
   "outputs": [],
   "source": [
    "f=SymFunction(\"f\");"
   ]
  },
  {
   "cell_type": "markdown",
   "metadata": {},
   "source": [
    "Para saber como va el error de este esquema, hacemos lo mismo que con la derivada a primer orden en la serie, expandimos la derivada numérica en serie de Taylor:"
   ]
  },
  {
   "cell_type": "code",
   "execution_count": 30,
   "metadata": {
    "collapsed": false
   },
   "outputs": [
    {
     "data": {
      "text/latex": [
       "$$\\frac{1}{h} \\left(- \\frac{3}{2} f{\\left (x \\right )} + 2 f{\\left (h + x \\right )} - \\frac{1}{2} f{\\left (2 h + x \\right )}\\right)$$"
      ],
      "text/plain": [
       "  3*f(x)                f(2*h + x)\n",
       "- ------ + 2*f(h + x) - ----------\n",
       "    2                       2     \n",
       "----------------------------------\n",
       "                h                 "
      ]
     },
     "execution_count": 30,
     "metadata": {},
     "output_type": "execute_result"
    }
   ],
   "source": [
    "aprox=Derivative_order_rational_coefficients(SymFunction(\"f\"),Sym(\"x\"),Sym(\"h\"),2)"
   ]
  },
  {
   "cell_type": "code",
   "execution_count": 31,
   "metadata": {
    "collapsed": false
   },
   "outputs": [
    {
     "data": {
      "text/latex": [
       "$$\\left. \\frac{d}{d \\xi_{1}} f{\\left (\\xi_{1} \\right )} \\right|_{\\substack{ \\xi_{1}=x }} - \\frac{h^{2}}{3} \\left. \\frac{d^{3}}{d \\xi_{1}^{3}}  f{\\left (\\xi_{1} \\right )} \\right|_{\\substack{ \\xi_{1}=x }} - \\frac{h^{3}}{4} \\left. \\frac{d^{4}}{d \\xi_{1}^{4}}  f{\\left (\\xi_{1} \\right )} \\right|_{\\substack{ \\xi_{1}=x }} - \\frac{7 h^{4}}{60} \\left. \\frac{d^{5}}{d \\xi_{1}^{5}}  f{\\left (\\xi_{1} \\right )} \\right|_{\\substack{ \\xi_{1}=x }} + \\mathcal{O}\\left(h^{5}\\right)$$"
      ],
      "text/plain": [
       "                             /   3           \\|            /   4           \\| \n",
       "                           2 |  d            ||          3 |  d            || \n",
       "                          h *|------(f(xi_1))||         h *|------(f(xi_1))|| \n",
       "                             |     3         ||            |     4         || \n",
       "/  d           \\|            \\dxi_1          /|xi_1=x      \\dxi_1          /|x\n",
       "|-----(f(xi_1))||       - --------------------------- - ----------------------\n",
       "\\dxi_1         /|xi_1=x                3                             4        \n",
       "\n",
       "             /   5           \\|              \n",
       "           4 |  d            ||              \n",
       "        7*h *|------(f(xi_1))||              \n",
       "             |     5         ||              \n",
       "i_1=x        \\dxi_1          /|xi_1=x    / 5\\\n",
       "----- - ----------------------------- + O\\h /\n",
       "                      60                     "
      ]
     },
     "execution_count": 31,
     "metadata": {},
     "output_type": "execute_result"
    }
   ],
   "source": [
    "series(aprox,Sym(\"h\"),0,5)"
   ]
  },
  {
   "cell_type": "markdown",
   "metadata": {},
   "source": [
    "Como ven, el error es cuadratico en $h^2$, igual que en el caso de la derivada simétrica. Sin embargo los coeficientes el error relativo absoluto son diferentes, favoreciendo este resultado respecto al de la derivada simétrica. El error se puede reducir aún mas tomando más terminos en la serie de $\\Delta_h$:"
   ]
  },
  {
   "cell_type": "markdown",
   "metadata": {},
   "source": [
    "Luego tomando mas terminos en la serie:"
   ]
  },
  {
   "cell_type": "code",
   "execution_count": 34,
   "metadata": {
    "collapsed": false
   },
   "outputs": [
    {
     "data": {
      "text/latex": [
       "$$\\frac{1}{h} \\left(- \\frac{137}{60} f{\\left (x \\right )} + 5 f{\\left (h + x \\right )} - 5 f{\\left (2 h + x \\right )} + \\frac{10}{3} f{\\left (3 h + x \\right )} - \\frac{5}{4} f{\\left (4 h + x \\right )} + \\frac{1}{5} f{\\left (5 h + x \\right )}\\right)$$"
      ],
      "text/plain": [
       "  137*f(x)                               10*f(3*h + x)   5*f(4*h + x)   f(5*h \n",
       "- -------- + 5*f(h + x) - 5*f(2*h + x) + ------------- - ------------ + ------\n",
       "     60                                        3              4             5 \n",
       "------------------------------------------------------------------------------\n",
       "                                        h                                     \n",
       "\n",
       "+ x)\n",
       "----\n",
       "    \n",
       "----\n",
       "    "
      ]
     },
     "execution_count": 34,
     "metadata": {},
     "output_type": "execute_result"
    }
   ],
   "source": [
    "aprox=Derivative_order_rational_coefficients(SymFunction(\"f\"),Sym(\"x\"),Sym(\"h\"),5)"
   ]
  },
  {
   "cell_type": "code",
   "execution_count": 38,
   "metadata": {
    "collapsed": false
   },
   "outputs": [
    {
     "data": {
      "text/latex": [
       "$$\\left. \\frac{d}{d \\xi_{1}} f{\\left (\\xi_{1} \\right )} \\right|_{\\substack{ \\xi_{1}=x }} + \\frac{h^{5}}{6} \\left. \\frac{d^{6}}{d \\xi_{1}^{6}}  f{\\left (\\xi_{1} \\right )} \\right|_{\\substack{ \\xi_{1}=x }} + \\mathcal{O}\\left(h^{6}\\right)$$"
      ],
      "text/plain": [
       "                             /   6           \\|              \n",
       "                           5 |  d            ||              \n",
       "                          h *|------(f(xi_1))||              \n",
       "                             |     6         ||              \n",
       "/  d           \\|            \\dxi_1          /|xi_1=x    / 6\\\n",
       "|-----(f(xi_1))||       + --------------------------- + O\\h /\n",
       "\\dxi_1         /|xi_1=x                6                     "
      ]
     },
     "execution_count": 38,
     "metadata": {},
     "output_type": "execute_result"
    }
   ],
   "source": [
    "series(aprox,Sym(\"h\"),0,6)"
   ]
  },
  {
   "cell_type": "markdown",
   "metadata": {},
   "source": [
    "__Ejercicio 7:__ Explotar la relación $\\delta_h=\\Delta_h-\\Delta_{-h}$, donde $\\delta_h:f(x)\\mapsto f(x+h)-f(x-h)$, para encontrar cual es la función $\\theta$ que relaciona a $\\delta_h$ con el operador derivada exacta, es decir:\n",
    "$$\\delta_h=\\theta\\left(h\\left. \\frac{d}{d\\xi}\\right|_{\\xi=x}\\right).$$\n",
    "\n",
    "Una vez que la encuentren, despejen $\\left. \\frac{d}{d\\xi}\\right|_{\\xi=x}$ y calculen la serie de Taylor de mánera similar a lo mostrado en las ecuaciones 3 y 4."
   ]
  },
  {
   "cell_type": "markdown",
   "metadata": {},
   "source": [
    "## Tarea_9 para el Jueves 14 de Septiembre"
   ]
  },
  {
   "cell_type": "markdown",
   "metadata": {},
   "source": [
    "Hacer ejercicios del 2 al 6 de este notebook."
   ]
  },
  {
   "cell_type": "markdown",
   "metadata": {},
   "source": [
    "## Tarea_10 para el Martes 19 de Septiembre"
   ]
  },
  {
   "cell_type": "markdown",
   "metadata": {},
   "source": [
    "Editar las rutinas presentadas en esta clase para calcular la _derivada hacia adelante_ a orden más alto, pero en esta ocasión para el operador _derivada simetrizada_.\n",
    "* No olvide hacer el test de la rutina, similar a lo que se hizo en este notebook para el $cos$."
   ]
  }
 ],
 "metadata": {
  "kernelspec": {
   "display_name": "Julia 0.6.0",
   "language": "julia",
   "name": "julia-0.6"
  },
  "language_info": {
   "file_extension": ".jl",
   "mimetype": "application/julia",
   "name": "julia",
   "version": "0.6.0"
  },
  "latex_envs": {
   "bibliofile": "biblio.bib",
   "cite_by": "apalike",
   "current_citInitial": 1,
   "eqLabelWithNumbers": true,
   "eqNumInitial": 0
  }
 },
 "nbformat": 4,
 "nbformat_minor": 2
}
