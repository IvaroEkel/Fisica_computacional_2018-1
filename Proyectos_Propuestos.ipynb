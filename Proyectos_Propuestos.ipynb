{
 "cells": [
  {
   "cell_type": "markdown",
   "metadata": {},
   "source": [
    "# Proyectos propuestos"
   ]
  },
  {
   "cell_type": "markdown",
   "metadata": {},
   "source": [
    "* Trabajaran en equipos hasta de 3 personas.c\n",
    "\n",
    "* Deberán elegir dos proyectos que les agraden, enumerados por nivel de relevancia. Si ningún proyecto les agrada deberán proponer por lo menos uno, piensen bien que no sea demasiado ambicioso y que ya tengan una idea de como hacerlo. \n",
    "\n",
    "* Eligirán a un representante del equipo, el me enviará un correo (solo a mi) con los integrantes de su equipo, los proyectos elegidos y propuestos.\n",
    "\n",
    "* La dinámica será tal que yo eligiré el proyecto más apropiado para cada equipo, tomando en cuenta su aprovechamiento como parámetro en caso de que se crucen proyectos.\n",
    "\n",
    "* El proyecto deberá ser presentado en un _notebook_ con la explicación pertinente de la motivación física, matemática, etc. que supone el problema, el planteamiento de la solución numérica, y finalmente los códigos, figuras, tests (de ser necesarios) etc."
   ]
  },
  {
   "cell_type": "markdown",
   "metadata": {
    "collapsed": true
   },
   "source": [
    "## Ecuaciones diferenciales parciales:\n",
    "\n",
    "* Solución de la ecuación de calor bidimensional con condiciones de Dirichlet\n",
    "    * Coordenadas cartesianas\n",
    "    * Coordenadas polares\n",
    "* Solución de la ecuación de onda."
   ]
  },
  {
   "cell_type": "markdown",
   "metadata": {
    "collapsed": true
   },
   "source": [
    "## Caos clásico y mecánica\n",
    "\n",
    "* Solución del problema de 3 cuerpos: Mostrar las trayectorias en el espacio tridimensional\n",
    "\n",
    "* Simulación del rotor pateado: Calcular el \n",
    "\n",
    "* Simulación del _mapa del circulo_: Calcular constante de Feigenbaum, diagrama de bifurcaciones, mostrar lenguas de Arnold, etc.: Para una primera consulta: \n",
    "\n",
    "http://mathworld.wolfram.com/CircleMap.html\n",
    "\n",
    "https://en.wikipedia.org/wiki/Arnold_tongue\n",
    "\n",
    "* Simular billar de Bunimovich (clásico): https://es.wikipedia.org/wiki/Billar_din%C3%A1mico  "
   ]
  },
  {
   "cell_type": "markdown",
   "metadata": {},
   "source": [
    "## Cuántica\n",
    "\n",
    "* Tomografia cuántica: Este proyecto mas que ser un reto computacional, es para mostrar como funciona la tomografia cuántica (también lo pueden encontrar como reconstrucción de estados cuánticos). La idea aqui es crear una rutina que simule mediciones de alguna observable dado un estado cuántico, luego, construir una rutina que a través de dichas mediciones nos diga el estado cuántico del sistema (aqui es obvio que para hacer esto se necesitan tantas copias del sistema como experimentos queramos hacer). Esto lo harán para un sistema de dos niveles (qubit), computacionalmente aquí solo se necesita utilizar matrices de $2x2$, números aleatorios, etc.\n",
    "    * Comparar la estadistica de experimentos hechos sobre un sistema que se encuentra en una superposición cuántica, respecto a los de un sistema que se encuentra en una superposición estadística.\n",
    "    \n",
    "* Simulación de caminatas aleatorias cuánticas.\n",
    "    * Comparación de la probabilidad de encontrar una particula en el espacio de configuración entre los casos cuánticos y clásicos: https://arxiv.org/pdf/quant-ph/0609035.pdf\n",
    "\n",
    "## Óptica Cuántica\n",
    "Estos proyectos computacionalmente son sencillos, basta con acudir a la solución formal de una ecuación diferencial lineal para avanzar bastante en el proyecto.\n",
    "\n",
    "* Resolver númericamente la ecuación de Lindblad para un sistema de dos niveles y estudiar el decaimiento espontaneo y decoherencia.\n",
    "\n",
    "## Sistemas abiertos cuánticos\n",
    "\n",
    "* Lo mismo de arriba pero en configuración Lambda\n",
    "    * Mostrar transparencia inducida electromagnéticamente\n",
    "\n",
    "* Programar esquema de sistemas abiertos usando matrices aleatorias (Hamiltonianos aleatorios, e.g. GUE, GOE) y estudiar el fenómeno de decoherencia cuando se tienen dos ambientes anidados.\n",
    "\n",
    "* Crear rutinas para simular numéricamente el sistema espín-boson.\n",
    "    * Implementación de la traza parcial para sistemas bipartitos.\n",
    "\n",
    "\n",
    "## Introducción a conceptos de caos cuántico\n",
    "\n",
    "* Programación de los ensambles de matrices aleatorias y estudio de la estadística del espectro.\n",
    "    * Bibiliografia: Reichl, L. E. (2004). The Transition to Chaos. New York, NY: Springer New York. https://doi.org/10.1007/978-1-4757-4350-0\n",
    "    \n",
    "* Simulación de una cadena de espines con acoplamientos aleatorios.\n",
    "    * Estudiar el espectro y comparar con los resultados de matrices aleatorias."
   ]
  },
  {
   "cell_type": "markdown",
   "metadata": {},
   "source": [
    "## Matemáticas y biologia matemática\n",
    "\n",
    "* Fractales de Newton: Esto consiste en encontrar las cuencas de atracción del método de Newton en la busqueda de raices en el dominio complejo. Asi es, surgen fractales.\n",
    "\n",
    "* Autómatas celulares:\n",
    "    * Simulación de incendios forestales\n",
    "    * El juego de la vida\n",
    "    \n",
    "* Propagación de epidemias: https://en.wikipedia.org/wiki/Mathematical_modelling_of_infectious_disease\n",
    "\n",
    "* Programación de métodos avanzados de integración: MonteCarlo, Cuadratura de Gauss y métodos adaptativos."
   ]
  },
  {
   "cell_type": "code",
   "execution_count": null,
   "metadata": {
    "collapsed": true
   },
   "outputs": [],
   "source": []
  }
 ],
 "metadata": {
  "kernelspec": {
   "display_name": "Julia 0.6.0",
   "language": "julia",
   "name": "julia-0.6"
  },
  "language_info": {
   "file_extension": ".jl",
   "mimetype": "application/julia",
   "name": "julia",
   "version": "0.6.0"
  },
  "latex_envs": {
   "LaTeX_envs_menu_present": true,
   "autocomplete": true,
   "bibliofile": "biblio.bib",
   "cite_by": "apalike",
   "current_citInitial": 1,
   "eqLabelWithNumbers": true,
   "eqNumInitial": 1,
   "hotkeys": {
    "equation": "Ctrl-E",
    "itemize": "Ctrl-I"
   },
   "labels_anchors": false,
   "latex_user_defs": false,
   "report_style_numbering": false,
   "user_envs_cfg": false
  }
 },
 "nbformat": 4,
 "nbformat_minor": 2
}
