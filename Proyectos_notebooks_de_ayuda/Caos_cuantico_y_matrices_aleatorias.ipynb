{
 "cells": [
  {
   "cell_type": "markdown",
   "metadata": {},
   "source": [
    "## Caos Cuántico y Teoria de Matrices Aleatorias"
   ]
  },
  {
   "cell_type": "markdown",
   "metadata": {},
   "source": [
    "La _teoría de matrices aleatorias_ (random matrix theory, o RMT) fue usada en física por primera vez para tratar de caracterizar el espectros de resonancias de los núcleos atómicos pesados por Wigner. El postuló que las propiedades estadísticas de las fluctuaciones de las líneas espectrales siguen el comportamiento de los eigenvalores de un ensamble de matrices aleatorias,  y que este ensamble depende sólo de la clase de simetría de la dinámica subyacente. Más adelante, en el año 1984, Bohigas, Giannoni, y Schmit acuñaron una __conjetura que establece que sistemas clásicos caóticos, al ser cuantizados, muestran una estadística espectral tipo RMT__. RMT comenzó a formar un pilar y una herramienta para el estudio del caos cuántico, a tal grado que hoy en día algunos la usan para _definir_ caos cuántico.\n",
    "\n",
    "_Lo anterior dicho constituye un resultado sorprendente dado que define clases de universalidad que dependen solo del grupo de transformaciones canónicas ante las cuales el sistema es invariante._\n",
    "\n",
    "Tres ensambles son típicamente considerados para matrices hermitianas:\n",
    "\n",
    "* _Gaussian Unitary Ensemble_ __(GUE)__ :Ensamble de matrices invariantes ante transformaciones unitarias. Este puede ser considerado como un ensamble de Hamiltonianos no simétricos bajo inversión temporal.  \n",
    "\n",
    "* _Gaussian Orthogonal Ensemble_ __(GOE)__: Modela Hamiltonianos invariantes ante transformaciones ortogonales y describe sistemas que son ya sea (i) simétricos ante inversión temporal y de espín total semientero, o (ii) sistemas de espín entero que pudieran tener o no simetría ante rotaciones. \n",
    "\n",
    "* _Gaussian Symplectic Ensemble_ __(GSE)__: Ensamble de matrices hermitianas invariante ante transformaciones simplécticas. Este tipo de matrices gobiernan la dinámica de sistemas de espín semientero simétricos bajo inversión temporal y carentes simetría bajo rotaciones.\n",
    "\n",
    "Existen también ensambles equivalentes de matrices unitarias (que pueden representar matrices de dispersión y operadores de Floquet). Estos son llamados ensambles \"circulares\" _Circular Gaussian Ensembles_ que, bajo  consideraciones similares de los ensambles anteriores, se denotan como CUE, COE y CSE. Análogamente para estos últimos ensambles se estudia, por ejemplo, el espaciamiento de las comúnmente llamadas cuasi-energías.  Concretamente, un sistema cuántico caótico con una de las tres simetrias internas antes mencionadas, su distribución de las diferencias en las energias (ó cuasienergias) están bien aproximadas por las siguientes distribuciones:\n",
    "\\begin{equation}\n",
    "P(s)=\\begin{cases} \n",
    "      \\hfill (s \\pi /2)\\exp (-s^2\\pi/4)    \\hfill & \\text{ortogonal} \\\\\n",
    "      \\hfill (s^2 32/\\pi^2) \\exp (-s^2 4/\\pi)    \\hfill & \\text{unitario} \\\\\n",
    "      \\hfill (s^4 2^{18}/3^6 \\pi^3)\\exp (-s^2 64/9 \\pi)    \\hfill & \\text{simpléctico.}\n",
    "  \\end{cases}\n",
    "\\end{equation}\n",
    "Cabe decir que para $s$ pequeña uno puede notar el exponente de\n",
    "_repulsión_ entre los eigenvalores en los distintos ensambles, $P(s)\n",
    "\\sim s^\\beta$, $\\beta=1,2,4$ para el ensamble ortogonal, unitario y simpléctico\n",
    "respectivamente. La repulsion de los niveles cuando el parámetro del sistema que lo lleva desde el régimen integral hasta el caótico, se ve en acción como sigue:\n",
    "\n",
    "![title](Statisticsmath2.png \"Title\")\n",
    "\n",
    "Para sistemas integrables, típicamente la $P(s)$ imita el comportamiento del _Poissonian unitary (orthogonal, symplectic) ensemble_, es decir, matrices que pueden ser escritas como $H=UDU^\\dagger$, donde D es una matriz diagonal con entradas aleatorias bajo la misma distribución y sin correlación alguna. "
   ]
  },
  {
   "cell_type": "markdown",
   "metadata": {},
   "source": [
    "# Algunas rutinas"
   ]
  },
  {
   "cell_type": "code",
   "execution_count": 24,
   "metadata": {
    "collapsed": true
   },
   "outputs": [],
   "source": [
    "using PyPlot"
   ]
  },
  {
   "cell_type": "code",
   "execution_count": 25,
   "metadata": {},
   "outputs": [
    {
     "data": {
      "text/plain": [
       "gaussian_unitary_ensemble (generic function with 1 method)"
      ]
     },
     "execution_count": 25,
     "metadata": {},
     "output_type": "execute_result"
    }
   ],
   "source": [
    "function gaussian_unitary_ensemble(dim)\n",
    "    (x -> x+x')(randn(dim,dim)+im*randn(dim,dim))\n",
    "end"
   ]
  },
  {
   "cell_type": "code",
   "execution_count": 26,
   "metadata": {},
   "outputs": [
    {
     "data": {
      "text/plain": [
       "circular_unitary_ensemble (generic function with 1 method)"
      ]
     },
     "execution_count": 26,
     "metadata": {},
     "output_type": "execute_result"
    }
   ],
   "source": [
    "function circular_unitary_ensemble(dim::Int)\n",
    "    eigvecs(gaussian_unitary_ensemble(dim)).*exp(2*pi*im*rand(dim))'\n",
    "end"
   ]
  },
  {
   "cell_type": "code",
   "execution_count": 27,
   "metadata": {},
   "outputs": [
    {
     "data": {
      "text/plain": [
       "Wigner_surmise_GUE (generic function with 1 method)"
      ]
     },
     "execution_count": 27,
     "metadata": {},
     "output_type": "execute_result"
    }
   ],
   "source": [
    "function Wigner_surmise_GUE(x)\n",
    "    return (x.^2*32/pi^2).*exp(-x.^2*4/pi)\n",
    "end"
   ]
  },
  {
   "cell_type": "code",
   "execution_count": 28,
   "metadata": {},
   "outputs": [
    {
     "data": {
      "text/plain": [
       "get_nearest_neighbour (generic function with 1 method)"
      ]
     },
     "execution_count": 28,
     "metadata": {},
     "output_type": "execute_result"
    }
   ],
   "source": [
    "function get_nearest_neighbour(spectrum)\n",
    "    a=sort(spectrum)\n",
    "    a=a-circshift(a,1)\n",
    "    a[1]=a[1]+2*pi\n",
    "    a/mean(a)\n",
    "end"
   ]
  },
  {
   "cell_type": "code",
   "execution_count": 31,
   "metadata": {},
   "outputs": [
    {
     "name": "stderr",
     "output_type": "stream",
     "text": [
      "\u001b[1m\u001b[33mWARNING: \u001b[39m\u001b[22m\u001b[33mexp{T <: Number}(x::AbstractArray{T}) is deprecated, use exp.(x) instead.\u001b[39m\n",
      "Stacktrace:\n",
      " [1] \u001b[1mdepwarn\u001b[22m\u001b[22m\u001b[1m(\u001b[22m\u001b[22m::String, ::Symbol\u001b[1m)\u001b[22m\u001b[22m at \u001b[1m./deprecated.jl:70\u001b[22m\u001b[22m\n",
      " [2] \u001b[1mexp\u001b[22m\u001b[22m\u001b[1m(\u001b[22m\u001b[22m::Array{Complex{Float64},1}\u001b[1m)\u001b[22m\u001b[22m at \u001b[1m./deprecated.jl:57\u001b[22m\u001b[22m\n",
      " [3] \u001b[1mcircular_unitary_ensemble\u001b[22m\u001b[22m\u001b[1m(\u001b[22m\u001b[22m::Int64\u001b[1m)\u001b[22m\u001b[22m at \u001b[1m./In[26]:2\u001b[22m\u001b[22m\n",
      " [4] \u001b[1mmacro expansion\u001b[22m\u001b[22m at \u001b[1m./In[31]:5\u001b[22m\u001b[22m [inlined]\n",
      " [5] \u001b[1manonymous\u001b[22m\u001b[22m at \u001b[1m./<missing>:?\u001b[22m\u001b[22m\n",
      " [6] \u001b[1minclude_string\u001b[22m\u001b[22m\u001b[1m(\u001b[22m\u001b[22m::String, ::String\u001b[1m)\u001b[22m\u001b[22m at \u001b[1m./loading.jl:515\u001b[22m\u001b[22m\n",
      " [7] \u001b[1minclude_string\u001b[22m\u001b[22m\u001b[1m(\u001b[22m\u001b[22m::Module, ::String, ::String\u001b[1m)\u001b[22m\u001b[22m at \u001b[1m/home/david/.julia/v0.6/Compat/src/Compat.jl:464\u001b[22m\u001b[22m\n",
      " [8] \u001b[1mexecute_request\u001b[22m\u001b[22m\u001b[1m(\u001b[22m\u001b[22m::ZMQ.Socket, ::IJulia.Msg\u001b[1m)\u001b[22m\u001b[22m at \u001b[1m/home/david/.julia/v0.6/IJulia/src/execute_request.jl:154\u001b[22m\u001b[22m\n",
      " [9] \u001b[1meventloop\u001b[22m\u001b[22m\u001b[1m(\u001b[22m\u001b[22m::ZMQ.Socket\u001b[1m)\u001b[22m\u001b[22m at \u001b[1m/home/david/.julia/v0.6/IJulia/src/eventloop.jl:8\u001b[22m\u001b[22m\n",
      " [10] \u001b[1m(::IJulia.##14#17)\u001b[22m\u001b[22m\u001b[1m(\u001b[22m\u001b[22m\u001b[1m)\u001b[22m\u001b[22m at \u001b[1m./task.jl:335\u001b[22m\u001b[22m\n",
      "while loading In[31], in expression starting on line 4\n"
     ]
    }
   ],
   "source": [
    "dim=100;\n",
    "EnsembleSize=1000;\n",
    "data=zeros(EnsembleSize*dim)\n",
    "for i=1:EnsembleSize\n",
    "    data[((i-1)*dim+1):i*dim]=get_nearest_neighbour(angle.(eigvals(circular_unitary_ensemble(dim))))\n",
    "end"
   ]
  },
  {
   "cell_type": "code",
   "execution_count": 32,
   "metadata": {},
   "outputs": [
    {
     "data": {
      "image/png": "[encoded data removed]",
      "text/plain": [
       "PyPlot.Figure(PyObject <matplotlib.figure.Figure object at 0x7f881433def0>)"
      ]
     },
     "metadata": {},
     "output_type": "display_data"
    },
    {
     "name": "stderr",
     "output_type": "stream",
     "text": [
      "\u001b[1m\u001b[33mWARNING: \u001b[39m\u001b[22m\u001b[33mexp{T <: Number}(x::AbstractArray{T}) is deprecated, use exp.(x) instead.\u001b[39m\n",
      "Stacktrace:\n",
      " [1] \u001b[1mdepwarn\u001b[22m\u001b[22m\u001b[1m(\u001b[22m\u001b[22m::String, ::Symbol\u001b[1m)\u001b[22m\u001b[22m at \u001b[1m./deprecated.jl:70\u001b[22m\u001b[22m\n",
      " [2] \u001b[1mexp\u001b[22m\u001b[22m\u001b[1m(\u001b[22m\u001b[22m::Array{Float64,1}\u001b[1m)\u001b[22m\u001b[22m at \u001b[1m./deprecated.jl:57\u001b[22m\u001b[22m\n",
      " [3] \u001b[1mWigner_surmise_GUE\u001b[22m\u001b[22m\u001b[1m(\u001b[22m\u001b[22m::StepRangeLen{Float64,Base.TwicePrecision{Float64},Base.TwicePrecision{Float64}}\u001b[1m)\u001b[22m\u001b[22m at \u001b[1m./In[27]:2\u001b[22m\u001b[22m\n",
      " [4] \u001b[1minclude_string\u001b[22m\u001b[22m\u001b[1m(\u001b[22m\u001b[22m::String, ::String\u001b[1m)\u001b[22m\u001b[22m at \u001b[1m./loading.jl:515\u001b[22m\u001b[22m\n",
      " [5] \u001b[1minclude_string\u001b[22m\u001b[22m\u001b[1m(\u001b[22m\u001b[22m::Module, ::String, ::String\u001b[1m)\u001b[22m\u001b[22m at \u001b[1m/home/david/.julia/v0.6/Compat/src/Compat.jl:464\u001b[22m\u001b[22m\n",
      " [6] \u001b[1mexecute_request\u001b[22m\u001b[22m\u001b[1m(\u001b[22m\u001b[22m::ZMQ.Socket, ::IJulia.Msg\u001b[1m)\u001b[22m\u001b[22m at \u001b[1m/home/david/.julia/v0.6/IJulia/src/execute_request.jl:154\u001b[22m\u001b[22m\n",
      " [7] \u001b[1meventloop\u001b[22m\u001b[22m\u001b[1m(\u001b[22m\u001b[22m::ZMQ.Socket\u001b[1m)\u001b[22m\u001b[22m at \u001b[1m/home/david/.julia/v0.6/IJulia/src/eventloop.jl:8\u001b[22m\u001b[22m\n",
      " [8] \u001b[1m(::IJulia.##14#17)\u001b[22m\u001b[22m\u001b[1m(\u001b[22m\u001b[22m\u001b[1m)\u001b[22m\u001b[22m at \u001b[1m./task.jl:335\u001b[22m\u001b[22m\n",
      "while loading In[32], in expression starting on line 3\n"
     ]
    }
   ],
   "source": [
    "max_x=3.5\n",
    "x=linspace(0,max_x,700);\n",
    "y=Wigner_surmise_GUE(x);\n",
    "PyPlot.xlim(0,max_x)\n",
    "PyPlot.plot(x,y);\n",
    "plt[:hist](data,50,normed=\"True\");\n",
    "plt[:show](figure)"
   ]
  },
  {
   "cell_type": "code",
   "execution_count": null,
   "metadata": {
    "collapsed": true
   },
   "outputs": [],
   "source": []
  }
 ],
 "metadata": {
  "kernelspec": {
   "display_name": "Julia 0.6.0",
   "language": "julia",
   "name": "julia-0.6"
  },
  "language_info": {
   "file_extension": ".jl",
   "mimetype": "application/julia",
   "name": "julia",
   "version": "0.6.0"
  }
 },
 "nbformat": 4,
 "nbformat_minor": 2
}
