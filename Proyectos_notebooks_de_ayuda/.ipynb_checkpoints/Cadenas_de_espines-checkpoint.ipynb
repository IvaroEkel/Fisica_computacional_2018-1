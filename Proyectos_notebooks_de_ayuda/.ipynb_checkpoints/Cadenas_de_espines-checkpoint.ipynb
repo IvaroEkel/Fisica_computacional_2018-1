{
 "cells": [
  {
   "cell_type": "markdown",
   "metadata": {},
   "source": [
    "## Cadena de espines pateada"
   ]
  },
  {
   "cell_type": "markdown",
   "metadata": {},
   "source": [
    "* Estudiaremos una cadena de Ising abierta pateada por pulsos de campo magnético. El Hamiltoniano del sistema es el siguiente:\n",
    "$$ H=\\sum_{i=0}^{N-2} J_i\\sigma^z_i \\sigma_{i+1}^z \n",
    "  +\\hat  \\delta_{\\tau}(t) \\sum_{i=0}^{N-1} b^{ \\perp }\\sigma_i^x +b^{\\parallel} \\sigma_i^z, \n",
    " \\hspace{8 pt} \n",
    "\\hat \\delta_{\\tau}(t)=\\sum_{n=-\\infty}^{\\infty} \\delta(t-\\tau n),$$\n",
    "__Simetrías:__\n",
    "    \n",
    "La cadena homogénea $J_i = J$ tiene simetría bajo reflexión, es decir, si cambiamos el qubit $i \\to N-1-i$, el Hamiltoniano queda invariante. El operador de simetría asociado $R$, opera en la base computacional como sigue:\n",
    "$$R\\vert\\alpha_0,\\alpha_1,\\dots,\\alpha_{N-2},\\alpha_{N-1}\\rangle=\\vert\\alpha_{N-1},\\alpha_{N-2},\\dots,\\alpha_{1},\\alpha_0\\rangle.$$\n",
    "donde $\\alpha_j\\in\\lbrace 0,1 \\rbrace$, los eigenvalores asociados a este operador son $\\pm 1$. \n",
    "\n",
    "Cabe notar que las simetrías están asociadas a cantidades conservadas y viceversa, en este caso es la paridad y el espacio de Hilbert esta estructurado como sigue:\n",
    "$$\\mathcal{H}=\\mathcal{H}_1\\oplus \\mathcal{H}_{-1}.$$\n",
    "donde $\\mathcal{H}_{\\pm 1}$ son subespacios invariantes asociados a cada valor de la paridad, es decir, si un estado vive inicialmente en $\\mathcal{H}_1$ y se propaga de acuerdo al Hamiltoniano de arriba, el estado del sistema se quedara en ese espacio."
   ]
  },
  {
   "cell_type": "markdown",
   "metadata": {},
   "source": [
    "__Operador de evolución__ \n",
    "\n",
    "Cuando se tiene un Hamiltoniano con dependencia explícita en el tiempo, el operador de evolución se construye como sigue:\n",
    "\n",
    "$$\n",
    "U(t_2,t_1)=\\mathcal{T} \\exp{\\left(-i\\int_{t_1}^{t_2} H(t) dt\\right)},\n",
    "$$\n",
    "\n",
    "donde $\\mathcal{T}$ es el operador de ordenamiento temporal. Sin embargo, dado\n",
    "que el Hamiltoniano es periódico en el tiempo $H(t+\\tau)=H(t)$ y la\n",
    "dependencia temporal viene en términos de deltas de Dirac, uno puede\n",
    "simplificar bastante la expresión anterior y lidiar con un mapeo estroboscópico\n",
    "cuántico que se calcula de la siguiente manera. Entre cada patada, el sistema\n",
    "se comporta como uno autónomo y el operador de evolución viene dado solo por la\n",
    "parte de Ising. Justo después de una patada y durante un tiempo menor al\n",
    "periodo del sistema, el operador de evolución viene dado por (digamos justo\n",
    "después de la\n",
    "patada $n$):\n",
    "$$U_I(t)=\\exp \\left( -i t H_I \\right), \\hspace{8 pt} n \\tau<t<(n+1)\\tau$$\n",
    "donde $H_I$ denota solo la parte de Ising del Hamiltoniano total de la cadena.\n",
    "Ahora, en un intervalo de tiempo pequeño alrededor de cuando la patada $m=n+1$\n",
    "ocurre, la parte del campo magnético del Hamiltoniano es mucho más fuerte que\n",
    "la parte de Ising y el operador de evolución en la vecindad de la patada esta\n",
    "dado por:\n",
    "\\begin{align*}\n",
    "U_K = \\lim_{\\epsilon \\to 0^+} U(m \\tau-\\epsilon, m \\tau + \\epsilon) \n",
    "       &= \\lim_{\\epsilon \\to 0^+} \\mathcal{T}\n",
    "           \\exp \\left( -i H_K\\int_{m \\tau -\\epsilon}^{m \\tau +\\epsilon} \n",
    "\t              \\delta_\\tau(t) dt \\right)\\\\\n",
    "       &= \\exp \\left( -i H_K \\right),\n",
    "\\end{align*}\n",
    "donde $H_K=\\sum_{i=0}^{N-1} b^{ \\perp }\\sigma_i^x +b^{\\parallel} \\sigma_i^z$.\n",
    "Por lo tanto el operador de evolución que mapea estados a justo después de la\n",
    "patada $n$ está dado por:\n",
    "\\begin{equation}\n",
    "U_{KI}(n \\tau) = \\left[U_K U_I(\\tau)\\right]^n,\n",
    "\\end{equation}\n",
    "donde $U_{I}=\\exp\\left( -i \\sum_{i=0}^{N-1} J_i \\sigma^z_i \\sigma_{i+1}^z\\right)$ y $U_\\text{K}=\\exp \\left(-i \\sum_{i=0}^{N-1} b^{ \\perp }\\sigma_i^x +b^{\\parallel} \\sigma_i^z \\right)$. Entonces:\n",
    "$$\\vert \\psi(\\tau (n+1))\\rangle=U_{\\text{KI}}(\\tau)\\vert \\psi(\\tau n)\\rangle.$$\n",
    "\n",
    "Por último la cadena es simétrica bajo inversión temporal. En la base computacional, el operador de inversión temporal, $K'$ es simplemente conjugación compleja, tenemos entonces, $K'\\sigma_{x,z} K'^{-1}=\\sigma_{x,y}$ y\n",
    "$K' \\sigma_y K'^{-1}=-\\sigma_y$. Usando la versión simetrizada del operador de Floquet, $U'_{KI}=\\exp(-iH_I/2)U_{KI}\\exp(iH_I/2)$, es fácil comprobar que\n",
    "\\begin{equation}\n",
    "K'U'_{KI}K'^{-1}=U'^{\\dagger}_{KI},.\n",
    "\\end{equation}\n",
    "es decir, el operador de evolución se comporta \"bien\" bajo inversion temporal, puesto que el complejo transpuesto de $U'$ es el que propaga estados en reversa. Se dice que $U'$ es covariante bajo la operación de inversión temporal.\n",
    "Por lo tanto para el régimen caótico en la cadena tenemos una\n",
    "correspondencia de la $P(s)$ con el resultado del ensamble COE."
   ]
  },
  {
   "cell_type": "code",
   "execution_count": null,
   "metadata": {},
   "outputs": [],
   "source": []
  }
 ],
 "metadata": {
  "kernelspec": {
   "display_name": "Julia 0.6.0",
   "language": "julia",
   "name": "julia-0.6"
  },
  "language_info": {
   "file_extension": ".jl",
   "mimetype": "application/julia",
   "name": "julia",
   "version": "0.6.0"
  },
  "latex_envs": {
   "LaTeX_envs_menu_present": true,
   "autocomplete": true,
   "bibliofile": "biblio.bib",
   "cite_by": "apalike",
   "current_citInitial": 1,
   "eqLabelWithNumbers": true,
   "eqNumInitial": 1,
   "hotkeys": {
    "equation": "Ctrl-E",
    "itemize": "Ctrl-I"
   },
   "labels_anchors": false,
   "latex_user_defs": false,
   "report_style_numbering": false,
   "user_envs_cfg": false
  }
 },
 "nbformat": 4,
 "nbformat_minor": 2
}
